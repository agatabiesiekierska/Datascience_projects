{
 "cells": [
  {
   "cell_type": "markdown",
   "id": "3b1fcedc",
   "metadata": {},
   "source": [
    "##  Task from insightland academy - Prediction of the vehicle price using the CAR DETAILS dataset from Kaggle."
   ]
  },
  {
   "cell_type": "markdown",
   "id": "b1375a96",
   "metadata": {},
   "source": [
    "Task 1: Predict the price of a vehicle using the CAR DETAILS dataset from Kaggle.\n",
    "\n",
    "Dataset Description:\n",
    "\n",
    "This vehicle dataset, useful for predicting prices, contains information about cars and motorcycles listed on CarDekho.com. The data is in a CSV file that includes the following columns: model, year, selling price, showroom price, kilometers driven, fuel type, seller type, transmission, and number of previous owners.\n",
    "Link to the dataset\n",
    "\n",
    "[Link to the dataset](https://www.kaggle.com/datasets/nehalbirla/vehicle-dataset-from-cardekho/data) \n",
    "\n",
    "Requirements for the solution:\n",
    "\n",
    "* It should be original.\n",
    "* It should include descriptions.\n",
    "* It should apply several algorithms, assess them, and optimize them.\n",
    "* It should conclude with final observations."
   ]
  },
  {
   "cell_type": "markdown",
   "id": "a3e2000f",
   "metadata": {},
   "source": [
    "### Step 1: Import necessary python libraries"
   ]
  },
  {
   "cell_type": "code",
   "execution_count": 15,
   "id": "2eb37b2e",
   "metadata": {},
   "outputs": [],
   "source": [
    "import pandas as pd\n",
    "import numpy as np\n",
    "import matplotlib.pyplot as plt"
   ]
  },
  {
   "cell_type": "markdown",
   "id": "8217e8a0",
   "metadata": {},
   "source": [
    "### Step 2: Import file with data"
   ]
  },
  {
   "cell_type": "code",
   "execution_count": 16,
   "id": "e6030f1e",
   "metadata": {},
   "outputs": [],
   "source": [
    "cars = pd.read_csv('cars.csv')"
   ]
  },
  {
   "cell_type": "markdown",
   "id": "b7f76314",
   "metadata": {},
   "source": [
    "Displaying the dataset"
   ]
  },
  {
   "cell_type": "code",
   "execution_count": 17,
   "id": "f67beadf",
   "metadata": {},
   "outputs": [
    {
     "data": {
      "text/html": [
       "<div>\n",
       "<style scoped>\n",
       "    .dataframe tbody tr th:only-of-type {\n",
       "        vertical-align: middle;\n",
       "    }\n",
       "\n",
       "    .dataframe tbody tr th {\n",
       "        vertical-align: top;\n",
       "    }\n",
       "\n",
       "    .dataframe thead th {\n",
       "        text-align: right;\n",
       "    }\n",
       "</style>\n",
       "<table border=\"1\" class=\"dataframe\">\n",
       "  <thead>\n",
       "    <tr style=\"text-align: right;\">\n",
       "      <th></th>\n",
       "      <th>name</th>\n",
       "      <th>year</th>\n",
       "      <th>selling_price</th>\n",
       "      <th>km_driven</th>\n",
       "      <th>fuel</th>\n",
       "      <th>seller_type</th>\n",
       "      <th>transmission</th>\n",
       "      <th>owner</th>\n",
       "    </tr>\n",
       "  </thead>\n",
       "  <tbody>\n",
       "    <tr>\n",
       "      <th>0</th>\n",
       "      <td>Maruti 800 AC</td>\n",
       "      <td>2007</td>\n",
       "      <td>60000</td>\n",
       "      <td>70000</td>\n",
       "      <td>Petrol</td>\n",
       "      <td>Individual</td>\n",
       "      <td>Manual</td>\n",
       "      <td>First Owner</td>\n",
       "    </tr>\n",
       "    <tr>\n",
       "      <th>1</th>\n",
       "      <td>Maruti Wagon R LXI Minor</td>\n",
       "      <td>2007</td>\n",
       "      <td>135000</td>\n",
       "      <td>50000</td>\n",
       "      <td>Petrol</td>\n",
       "      <td>Individual</td>\n",
       "      <td>Manual</td>\n",
       "      <td>First Owner</td>\n",
       "    </tr>\n",
       "    <tr>\n",
       "      <th>2</th>\n",
       "      <td>Hyundai Verna 1.6 SX</td>\n",
       "      <td>2012</td>\n",
       "      <td>600000</td>\n",
       "      <td>100000</td>\n",
       "      <td>Diesel</td>\n",
       "      <td>Individual</td>\n",
       "      <td>Manual</td>\n",
       "      <td>First Owner</td>\n",
       "    </tr>\n",
       "    <tr>\n",
       "      <th>3</th>\n",
       "      <td>Datsun RediGO T Option</td>\n",
       "      <td>2017</td>\n",
       "      <td>250000</td>\n",
       "      <td>46000</td>\n",
       "      <td>Petrol</td>\n",
       "      <td>Individual</td>\n",
       "      <td>Manual</td>\n",
       "      <td>First Owner</td>\n",
       "    </tr>\n",
       "    <tr>\n",
       "      <th>4</th>\n",
       "      <td>Honda Amaze VX i-DTEC</td>\n",
       "      <td>2014</td>\n",
       "      <td>450000</td>\n",
       "      <td>141000</td>\n",
       "      <td>Diesel</td>\n",
       "      <td>Individual</td>\n",
       "      <td>Manual</td>\n",
       "      <td>Second Owner</td>\n",
       "    </tr>\n",
       "  </tbody>\n",
       "</table>\n",
       "</div>"
      ],
      "text/plain": [
       "                       name  year  selling_price  km_driven    fuel  \\\n",
       "0             Maruti 800 AC  2007          60000      70000  Petrol   \n",
       "1  Maruti Wagon R LXI Minor  2007         135000      50000  Petrol   \n",
       "2      Hyundai Verna 1.6 SX  2012         600000     100000  Diesel   \n",
       "3    Datsun RediGO T Option  2017         250000      46000  Petrol   \n",
       "4     Honda Amaze VX i-DTEC  2014         450000     141000  Diesel   \n",
       "\n",
       "  seller_type transmission         owner  \n",
       "0  Individual       Manual   First Owner  \n",
       "1  Individual       Manual   First Owner  \n",
       "2  Individual       Manual   First Owner  \n",
       "3  Individual       Manual   First Owner  \n",
       "4  Individual       Manual  Second Owner  "
      ]
     },
     "execution_count": 17,
     "metadata": {},
     "output_type": "execute_result"
    }
   ],
   "source": [
    "cars.head()"
   ]
  },
  {
   "cell_type": "markdown",
   "id": "f4c4d3b8",
   "metadata": {},
   "source": [
    "### Step 3: Displaying the data description using the `skim` function from the `skimpy` library."
   ]
  },
  {
   "cell_type": "code",
   "execution_count": 18,
   "id": "b1e8254a",
   "metadata": {},
   "outputs": [
    {
     "data": {
      "text/html": [
       "<pre style=\"white-space:pre;overflow-x:auto;line-height:normal;font-family:Menlo,'DejaVu Sans Mono',consolas,'Courier New',monospace\">╭──────────────────────────────────────────────── skimpy summary ─────────────────────────────────────────────────╮\n",
       "│ <span style=\"font-style: italic\">         Data Summary         </span> <span style=\"font-style: italic\">      Data Types       </span>                                                          │\n",
       "│ ┏━━━━━━━━━━━━━━━━━━━┳━━━━━━━━┓ ┏━━━━━━━━━━━━━┳━━━━━━━┓                                                          │\n",
       "│ ┃<span style=\"color: #008080; text-decoration-color: #008080; font-weight: bold\"> dataframe         </span>┃<span style=\"color: #008080; text-decoration-color: #008080; font-weight: bold\"> Values </span>┃ ┃<span style=\"color: #008080; text-decoration-color: #008080; font-weight: bold\"> Column Type </span>┃<span style=\"color: #008080; text-decoration-color: #008080; font-weight: bold\"> Count </span>┃                                                          │\n",
       "│ ┡━━━━━━━━━━━━━━━━━━━╇━━━━━━━━┩ ┡━━━━━━━━━━━━━╇━━━━━━━┩                                                          │\n",
       "│ │ Number of rows    │ 4340   │ │ string      │ 5     │                                                          │\n",
       "│ │ Number of columns │ 8      │ │ int32       │ 3     │                                                          │\n",
       "│ └───────────────────┴────────┘ └─────────────┴───────┘                                                          │\n",
       "│ <span style=\"font-style: italic\">                                                    number                                                    </span>  │\n",
       "│ ┏━━━━━━━━━━━━━━━━━┳━━━━━┳━━━━━━━┳━━━━━━━━━┳━━━━━━━━━┳━━━━━━━━┳━━━━━━━━━┳━━━━━━━━━┳━━━━━━━━┳━━━━━━━━━┳━━━━━━━━┓  │\n",
       "│ ┃<span style=\"font-weight: bold\"> column_name     </span>┃<span style=\"font-weight: bold\"> NA  </span>┃<span style=\"font-weight: bold\"> NA %  </span>┃<span style=\"font-weight: bold\"> mean    </span>┃<span style=\"font-weight: bold\"> sd      </span>┃<span style=\"font-weight: bold\"> p0     </span>┃<span style=\"font-weight: bold\"> p25     </span>┃<span style=\"font-weight: bold\"> p50     </span>┃<span style=\"font-weight: bold\"> p75    </span>┃<span style=\"font-weight: bold\"> p100    </span>┃<span style=\"font-weight: bold\"> hist   </span>┃  │\n",
       "│ ┡━━━━━━━━━━━━━━━━━╇━━━━━╇━━━━━━━╇━━━━━━━━━╇━━━━━━━━━╇━━━━━━━━╇━━━━━━━━━╇━━━━━━━━━╇━━━━━━━━╇━━━━━━━━━╇━━━━━━━━┩  │\n",
       "│ │ <span style=\"color: #af87ff; text-decoration-color: #af87ff\">year           </span> │ <span style=\"color: #008080; text-decoration-color: #008080\">  0</span> │ <span style=\"color: #008080; text-decoration-color: #008080\">    0</span> │ <span style=\"color: #008080; text-decoration-color: #008080\">   2013</span> │ <span style=\"color: #008080; text-decoration-color: #008080\">  4.215</span> │ <span style=\"color: #008080; text-decoration-color: #008080\">  1992</span> │ <span style=\"color: #008080; text-decoration-color: #008080\">   2011</span> │ <span style=\"color: #008080; text-decoration-color: #008080\">   2014</span> │ <span style=\"color: #008080; text-decoration-color: #008080\">  2016</span> │ <span style=\"color: #008080; text-decoration-color: #008080\">   2020</span> │ <span style=\"color: #008000; text-decoration-color: #008000\">  ▁▃▇▆</span> │  │\n",
       "│ │ <span style=\"color: #af87ff; text-decoration-color: #af87ff\">selling_price  </span> │ <span style=\"color: #008080; text-decoration-color: #008080\">  0</span> │ <span style=\"color: #008080; text-decoration-color: #008080\">    0</span> │ <span style=\"color: #008080; text-decoration-color: #008080\"> 504100</span> │ <span style=\"color: #008080; text-decoration-color: #008080\"> 578500</span> │ <span style=\"color: #008080; text-decoration-color: #008080\"> 20000</span> │ <span style=\"color: #008080; text-decoration-color: #008080\"> 208700</span> │ <span style=\"color: #008080; text-decoration-color: #008080\"> 350000</span> │ <span style=\"color: #008080; text-decoration-color: #008080\">600000</span> │ <span style=\"color: #008080; text-decoration-color: #008080\">8900000</span> │ <span style=\"color: #008000; text-decoration-color: #008000\">  ▇   </span> │  │\n",
       "│ │ <span style=\"color: #af87ff; text-decoration-color: #af87ff\">km_driven      </span> │ <span style=\"color: #008080; text-decoration-color: #008080\">  0</span> │ <span style=\"color: #008080; text-decoration-color: #008080\">    0</span> │ <span style=\"color: #008080; text-decoration-color: #008080\">  66220</span> │ <span style=\"color: #008080; text-decoration-color: #008080\">  46640</span> │ <span style=\"color: #008080; text-decoration-color: #008080\">     1</span> │ <span style=\"color: #008080; text-decoration-color: #008080\">  35000</span> │ <span style=\"color: #008080; text-decoration-color: #008080\">  60000</span> │ <span style=\"color: #008080; text-decoration-color: #008080\"> 90000</span> │ <span style=\"color: #008080; text-decoration-color: #008080\"> 806600</span> │ <span style=\"color: #008000; text-decoration-color: #008000\">  ▇   </span> │  │\n",
       "│ └─────────────────┴─────┴───────┴─────────┴─────────┴────────┴─────────┴─────────┴────────┴─────────┴────────┘  │\n",
       "│ <span style=\"font-style: italic\">                                                    string                                                    </span>  │\n",
       "│ ┏━━━━━━━━━━━━━━━━━━━━━━━━━━━━┳━━━━━━━━┳━━━━━━━━━━━━┳━━━━━━━━━━━━━━━━━━━━━━━━━━━━━━┳━━━━━━━━━━━━━━━━━━━━━━━━━━┓  │\n",
       "│ ┃<span style=\"font-weight: bold\"> column_name                </span>┃<span style=\"font-weight: bold\"> NA     </span>┃<span style=\"font-weight: bold\"> NA %       </span>┃<span style=\"font-weight: bold\"> words per row                </span>┃<span style=\"font-weight: bold\"> total words              </span>┃  │\n",
       "│ ┡━━━━━━━━━━━━━━━━━━━━━━━━━━━━╇━━━━━━━━╇━━━━━━━━━━━━╇━━━━━━━━━━━━━━━━━━━━━━━━━━━━━━╇━━━━━━━━━━━━━━━━━━━━━━━━━━┩  │\n",
       "│ │ <span style=\"color: #af87ff; text-decoration-color: #af87ff\">name                      </span> │ <span style=\"color: #008080; text-decoration-color: #008080\">     0</span> │ <span style=\"color: #008080; text-decoration-color: #008080\">         0</span> │ <span style=\"color: #008080; text-decoration-color: #008080\">                         4.7</span> │ <span style=\"color: #008080; text-decoration-color: #008080\">                   20194</span> │  │\n",
       "│ │ <span style=\"color: #af87ff; text-decoration-color: #af87ff\">fuel                      </span> │ <span style=\"color: #008080; text-decoration-color: #008080\">     0</span> │ <span style=\"color: #008080; text-decoration-color: #008080\">         0</span> │ <span style=\"color: #008080; text-decoration-color: #008080\">                           1</span> │ <span style=\"color: #008080; text-decoration-color: #008080\">                    4340</span> │  │\n",
       "│ │ <span style=\"color: #af87ff; text-decoration-color: #af87ff\">seller_type               </span> │ <span style=\"color: #008080; text-decoration-color: #008080\">     0</span> │ <span style=\"color: #008080; text-decoration-color: #008080\">         0</span> │ <span style=\"color: #008080; text-decoration-color: #008080\">                           1</span> │ <span style=\"color: #008080; text-decoration-color: #008080\">                    4442</span> │  │\n",
       "│ │ <span style=\"color: #af87ff; text-decoration-color: #af87ff\">transmission              </span> │ <span style=\"color: #008080; text-decoration-color: #008080\">     0</span> │ <span style=\"color: #008080; text-decoration-color: #008080\">         0</span> │ <span style=\"color: #008080; text-decoration-color: #008080\">                           1</span> │ <span style=\"color: #008080; text-decoration-color: #008080\">                    4340</span> │  │\n",
       "│ │ <span style=\"color: #af87ff; text-decoration-color: #af87ff\">owner                     </span> │ <span style=\"color: #008080; text-decoration-color: #008080\">     0</span> │ <span style=\"color: #008080; text-decoration-color: #008080\">         0</span> │ <span style=\"color: #008080; text-decoration-color: #008080\">                           2</span> │ <span style=\"color: #008080; text-decoration-color: #008080\">                    8859</span> │  │\n",
       "│ └────────────────────────────┴────────┴────────────┴──────────────────────────────┴──────────────────────────┘  │\n",
       "╰────────────────────────────────────────────────────── End ──────────────────────────────────────────────────────╯\n",
       "</pre>\n"
      ],
      "text/plain": [
       "╭──────────────────────────────────────────────── skimpy summary ─────────────────────────────────────────────────╮\n",
       "│ \u001b[3m         Data Summary         \u001b[0m \u001b[3m      Data Types       \u001b[0m                                                          │\n",
       "│ ┏━━━━━━━━━━━━━━━━━━━┳━━━━━━━━┓ ┏━━━━━━━━━━━━━┳━━━━━━━┓                                                          │\n",
       "│ ┃\u001b[1;36m \u001b[0m\u001b[1;36mdataframe        \u001b[0m\u001b[1;36m \u001b[0m┃\u001b[1;36m \u001b[0m\u001b[1;36mValues\u001b[0m\u001b[1;36m \u001b[0m┃ ┃\u001b[1;36m \u001b[0m\u001b[1;36mColumn Type\u001b[0m\u001b[1;36m \u001b[0m┃\u001b[1;36m \u001b[0m\u001b[1;36mCount\u001b[0m\u001b[1;36m \u001b[0m┃                                                          │\n",
       "│ ┡━━━━━━━━━━━━━━━━━━━╇━━━━━━━━┩ ┡━━━━━━━━━━━━━╇━━━━━━━┩                                                          │\n",
       "│ │ Number of rows    │ 4340   │ │ string      │ 5     │                                                          │\n",
       "│ │ Number of columns │ 8      │ │ int32       │ 3     │                                                          │\n",
       "│ └───────────────────┴────────┘ └─────────────┴───────┘                                                          │\n",
       "│ \u001b[3m                                                    number                                                    \u001b[0m  │\n",
       "│ ┏━━━━━━━━━━━━━━━━━┳━━━━━┳━━━━━━━┳━━━━━━━━━┳━━━━━━━━━┳━━━━━━━━┳━━━━━━━━━┳━━━━━━━━━┳━━━━━━━━┳━━━━━━━━━┳━━━━━━━━┓  │\n",
       "│ ┃\u001b[1m \u001b[0m\u001b[1mcolumn_name    \u001b[0m\u001b[1m \u001b[0m┃\u001b[1m \u001b[0m\u001b[1mNA \u001b[0m\u001b[1m \u001b[0m┃\u001b[1m \u001b[0m\u001b[1mNA % \u001b[0m\u001b[1m \u001b[0m┃\u001b[1m \u001b[0m\u001b[1mmean   \u001b[0m\u001b[1m \u001b[0m┃\u001b[1m \u001b[0m\u001b[1msd     \u001b[0m\u001b[1m \u001b[0m┃\u001b[1m \u001b[0m\u001b[1mp0    \u001b[0m\u001b[1m \u001b[0m┃\u001b[1m \u001b[0m\u001b[1mp25    \u001b[0m\u001b[1m \u001b[0m┃\u001b[1m \u001b[0m\u001b[1mp50    \u001b[0m\u001b[1m \u001b[0m┃\u001b[1m \u001b[0m\u001b[1mp75   \u001b[0m\u001b[1m \u001b[0m┃\u001b[1m \u001b[0m\u001b[1mp100   \u001b[0m\u001b[1m \u001b[0m┃\u001b[1m \u001b[0m\u001b[1mhist  \u001b[0m\u001b[1m \u001b[0m┃  │\n",
       "│ ┡━━━━━━━━━━━━━━━━━╇━━━━━╇━━━━━━━╇━━━━━━━━━╇━━━━━━━━━╇━━━━━━━━╇━━━━━━━━━╇━━━━━━━━━╇━━━━━━━━╇━━━━━━━━━╇━━━━━━━━┩  │\n",
       "│ │ \u001b[38;5;141myear           \u001b[0m │ \u001b[36m  0\u001b[0m │ \u001b[36m    0\u001b[0m │ \u001b[36m   2013\u001b[0m │ \u001b[36m  4.215\u001b[0m │ \u001b[36m  1992\u001b[0m │ \u001b[36m   2011\u001b[0m │ \u001b[36m   2014\u001b[0m │ \u001b[36m  2016\u001b[0m │ \u001b[36m   2020\u001b[0m │ \u001b[32m  ▁▃▇▆\u001b[0m │  │\n",
       "│ │ \u001b[38;5;141mselling_price  \u001b[0m │ \u001b[36m  0\u001b[0m │ \u001b[36m    0\u001b[0m │ \u001b[36m 504100\u001b[0m │ \u001b[36m 578500\u001b[0m │ \u001b[36m 20000\u001b[0m │ \u001b[36m 208700\u001b[0m │ \u001b[36m 350000\u001b[0m │ \u001b[36m600000\u001b[0m │ \u001b[36m8900000\u001b[0m │ \u001b[32m  ▇   \u001b[0m │  │\n",
       "│ │ \u001b[38;5;141mkm_driven      \u001b[0m │ \u001b[36m  0\u001b[0m │ \u001b[36m    0\u001b[0m │ \u001b[36m  66220\u001b[0m │ \u001b[36m  46640\u001b[0m │ \u001b[36m     1\u001b[0m │ \u001b[36m  35000\u001b[0m │ \u001b[36m  60000\u001b[0m │ \u001b[36m 90000\u001b[0m │ \u001b[36m 806600\u001b[0m │ \u001b[32m  ▇   \u001b[0m │  │\n",
       "│ └─────────────────┴─────┴───────┴─────────┴─────────┴────────┴─────────┴─────────┴────────┴─────────┴────────┘  │\n",
       "│ \u001b[3m                                                    string                                                    \u001b[0m  │\n",
       "│ ┏━━━━━━━━━━━━━━━━━━━━━━━━━━━━┳━━━━━━━━┳━━━━━━━━━━━━┳━━━━━━━━━━━━━━━━━━━━━━━━━━━━━━┳━━━━━━━━━━━━━━━━━━━━━━━━━━┓  │\n",
       "│ ┃\u001b[1m \u001b[0m\u001b[1mcolumn_name               \u001b[0m\u001b[1m \u001b[0m┃\u001b[1m \u001b[0m\u001b[1mNA    \u001b[0m\u001b[1m \u001b[0m┃\u001b[1m \u001b[0m\u001b[1mNA %      \u001b[0m\u001b[1m \u001b[0m┃\u001b[1m \u001b[0m\u001b[1mwords per row               \u001b[0m\u001b[1m \u001b[0m┃\u001b[1m \u001b[0m\u001b[1mtotal words             \u001b[0m\u001b[1m \u001b[0m┃  │\n",
       "│ ┡━━━━━━━━━━━━━━━━━━━━━━━━━━━━╇━━━━━━━━╇━━━━━━━━━━━━╇━━━━━━━━━━━━━━━━━━━━━━━━━━━━━━╇━━━━━━━━━━━━━━━━━━━━━━━━━━┩  │\n",
       "│ │ \u001b[38;5;141mname                      \u001b[0m │ \u001b[36m     0\u001b[0m │ \u001b[36m         0\u001b[0m │ \u001b[36m                         4.7\u001b[0m │ \u001b[36m                   20194\u001b[0m │  │\n",
       "│ │ \u001b[38;5;141mfuel                      \u001b[0m │ \u001b[36m     0\u001b[0m │ \u001b[36m         0\u001b[0m │ \u001b[36m                           1\u001b[0m │ \u001b[36m                    4340\u001b[0m │  │\n",
       "│ │ \u001b[38;5;141mseller_type               \u001b[0m │ \u001b[36m     0\u001b[0m │ \u001b[36m         0\u001b[0m │ \u001b[36m                           1\u001b[0m │ \u001b[36m                    4442\u001b[0m │  │\n",
       "│ │ \u001b[38;5;141mtransmission              \u001b[0m │ \u001b[36m     0\u001b[0m │ \u001b[36m         0\u001b[0m │ \u001b[36m                           1\u001b[0m │ \u001b[36m                    4340\u001b[0m │  │\n",
       "│ │ \u001b[38;5;141mowner                     \u001b[0m │ \u001b[36m     0\u001b[0m │ \u001b[36m         0\u001b[0m │ \u001b[36m                           2\u001b[0m │ \u001b[36m                    8859\u001b[0m │  │\n",
       "│ └────────────────────────────┴────────┴────────────┴──────────────────────────────┴──────────────────────────┘  │\n",
       "╰────────────────────────────────────────────────────── End ──────────────────────────────────────────────────────╯\n"
      ]
     },
     "metadata": {},
     "output_type": "display_data"
    }
   ],
   "source": [
    "# !pip install skimpy\n",
    "from skimpy import skim\n",
    "\n",
    "skim(cars)"
   ]
  },
  {
   "cell_type": "markdown",
   "id": "e9307ca0",
   "metadata": {},
   "source": [
    "The dataset contains 8 columns, with no missing values. The data types in the columns are:\n",
    "* `name` - vehicle name == __categorical__\n",
    "* `year` - year of manufacture == __discrete__\n",
    "* `selling_price` - selling price == __continuous__\n",
    "* `km_driven` - mileage == __continuous__\n",
    "* `fuel` - fuel type == __categorical__\n",
    "* `seller_type` - seller type == __categorical__\n",
    "* `transmission` - transmission == __categorical__ (or __binary__)\n",
    "* `owner` - owner == __categorical__"
   ]
  },
  {
   "cell_type": "markdown",
   "id": "6b0063e8",
   "metadata": {},
   "source": [
    "### Checking unique values for columns with non-continuous values."
   ]
  },
  {
   "cell_type": "code",
   "execution_count": 19,
   "id": "253014f1",
   "metadata": {},
   "outputs": [],
   "source": [
    "# unique values function\n",
    "def unique_values(df):\n",
    "    unique_values = {}\n",
    "\n",
    "    for column in df.columns:\n",
    "        val = df[column].unique()\n",
    "        unique_values[column]=val\n",
    "    \n",
    "    return unique_values"
   ]
  },
  {
   "cell_type": "code",
   "execution_count": 20,
   "id": "dd304f57",
   "metadata": {},
   "outputs": [
    {
     "data": {
      "text/plain": [
       "{'name': array(['Maruti 800 AC', 'Maruti Wagon R LXI Minor',\n",
       "        'Hyundai Verna 1.6 SX', ..., 'Mahindra Verito 1.5 D6 BSIII',\n",
       "        'Toyota Innova 2.5 VX (Diesel) 8 Seater BS IV',\n",
       "        'Hyundai i20 Magna 1.4 CRDi'], dtype=object),\n",
       " 'year': array([2007, 2012, 2017, 2014, 2016, 2015, 2018, 2019, 2013, 2011, 2010,\n",
       "        2009, 2006, 1996, 2005, 2008, 2004, 1998, 2003, 2002, 2020, 2000,\n",
       "        1999, 2001, 1995, 1997, 1992], dtype=int64),\n",
       " 'fuel': array(['Petrol', 'Diesel', 'CNG', 'LPG', 'Electric'], dtype=object),\n",
       " 'seller_type': array(['Individual', 'Dealer', 'Trustmark Dealer'], dtype=object),\n",
       " 'transmission': array(['Manual', 'Automatic'], dtype=object),\n",
       " 'owner': array(['First Owner', 'Second Owner', 'Fourth & Above Owner',\n",
       "        'Third Owner', 'Test Drive Car'], dtype=object)}"
      ]
     },
     "execution_count": 20,
     "metadata": {},
     "output_type": "execute_result"
    }
   ],
   "source": [
    "unique_values(cars.drop(columns=['selling_price','km_driven']))"
   ]
  },
  {
   "cell_type": "markdown",
   "id": "7a0768f9",
   "metadata": {},
   "source": [
    "### Checking if the dataset has duplicate values."
   ]
  },
  {
   "cell_type": "code",
   "execution_count": 21,
   "id": "4f192145",
   "metadata": {},
   "outputs": [
    {
     "name": "stdout",
     "output_type": "stream",
     "text": [
      "The dataframe doesn't have duplicate values!\n"
     ]
    },
    {
     "data": {
      "text/plain": [
       "0       False\n",
       "1       False\n",
       "2       False\n",
       "3       False\n",
       "4       False\n",
       "        ...  \n",
       "4335    False\n",
       "4336    False\n",
       "4337    False\n",
       "4338    False\n",
       "4339    False\n",
       "Length: 4340, dtype: bool"
      ]
     },
     "execution_count": 21,
     "metadata": {},
     "output_type": "execute_result"
    }
   ],
   "source": [
    "def check_for_duplicates(df):\n",
    "    # Returns info about duplicated values\n",
    "    duplicated = df.duplicated()\n",
    "    if True in duplicated:\n",
    "        print('The dataframe does have duplicate values!')\n",
    "    else: print(\"The dataframe doesn't have duplicate values!\")\n",
    "    return duplicated\n",
    "\n",
    "check_for_duplicates(cars)"
   ]
  },
  {
   "cell_type": "code",
   "execution_count": 22,
   "id": "9c411f56",
   "metadata": {},
   "outputs": [
    {
     "data": {
      "text/html": [
       "<pre style=\"white-space:pre;overflow-x:auto;line-height:normal;font-family:Menlo,'DejaVu Sans Mono',consolas,'Courier New',monospace\">╭──────────────────────────────────────────────── skimpy summary ─────────────────────────────────────────────────╮\n",
       "│ <span style=\"font-style: italic\">         Data Summary         </span> <span style=\"font-style: italic\">      Data Types       </span>                                                          │\n",
       "│ ┏━━━━━━━━━━━━━━━━━━━┳━━━━━━━━┓ ┏━━━━━━━━━━━━━┳━━━━━━━┓                                                          │\n",
       "│ ┃<span style=\"color: #008080; text-decoration-color: #008080; font-weight: bold\"> dataframe         </span>┃<span style=\"color: #008080; text-decoration-color: #008080; font-weight: bold\"> Values </span>┃ ┃<span style=\"color: #008080; text-decoration-color: #008080; font-weight: bold\"> Column Type </span>┃<span style=\"color: #008080; text-decoration-color: #008080; font-weight: bold\"> Count </span>┃                                                          │\n",
       "│ ┡━━━━━━━━━━━━━━━━━━━╇━━━━━━━━┩ ┡━━━━━━━━━━━━━╇━━━━━━━┩                                                          │\n",
       "│ │ Number of rows    │ 4340   │ │ string      │ 5     │                                                          │\n",
       "│ │ Number of columns │ 8      │ │ int32       │ 3     │                                                          │\n",
       "│ └───────────────────┴────────┘ └─────────────┴───────┘                                                          │\n",
       "│ <span style=\"font-style: italic\">                                                    number                                                    </span>  │\n",
       "│ ┏━━━━━━━━━━━━━━━━━┳━━━━━┳━━━━━━━┳━━━━━━━━━┳━━━━━━━━━┳━━━━━━━━┳━━━━━━━━━┳━━━━━━━━━┳━━━━━━━━┳━━━━━━━━━┳━━━━━━━━┓  │\n",
       "│ ┃<span style=\"font-weight: bold\"> column_name     </span>┃<span style=\"font-weight: bold\"> NA  </span>┃<span style=\"font-weight: bold\"> NA %  </span>┃<span style=\"font-weight: bold\"> mean    </span>┃<span style=\"font-weight: bold\"> sd      </span>┃<span style=\"font-weight: bold\"> p0     </span>┃<span style=\"font-weight: bold\"> p25     </span>┃<span style=\"font-weight: bold\"> p50     </span>┃<span style=\"font-weight: bold\"> p75    </span>┃<span style=\"font-weight: bold\"> p100    </span>┃<span style=\"font-weight: bold\"> hist   </span>┃  │\n",
       "│ ┡━━━━━━━━━━━━━━━━━╇━━━━━╇━━━━━━━╇━━━━━━━━━╇━━━━━━━━━╇━━━━━━━━╇━━━━━━━━━╇━━━━━━━━━╇━━━━━━━━╇━━━━━━━━━╇━━━━━━━━┩  │\n",
       "│ │ <span style=\"color: #af87ff; text-decoration-color: #af87ff\">year           </span> │ <span style=\"color: #008080; text-decoration-color: #008080\">  0</span> │ <span style=\"color: #008080; text-decoration-color: #008080\">    0</span> │ <span style=\"color: #008080; text-decoration-color: #008080\">   2013</span> │ <span style=\"color: #008080; text-decoration-color: #008080\">  4.215</span> │ <span style=\"color: #008080; text-decoration-color: #008080\">  1992</span> │ <span style=\"color: #008080; text-decoration-color: #008080\">   2011</span> │ <span style=\"color: #008080; text-decoration-color: #008080\">   2014</span> │ <span style=\"color: #008080; text-decoration-color: #008080\">  2016</span> │ <span style=\"color: #008080; text-decoration-color: #008080\">   2020</span> │ <span style=\"color: #008000; text-decoration-color: #008000\">  ▁▃▇▆</span> │  │\n",
       "│ │ <span style=\"color: #af87ff; text-decoration-color: #af87ff\">selling_price  </span> │ <span style=\"color: #008080; text-decoration-color: #008080\">  0</span> │ <span style=\"color: #008080; text-decoration-color: #008080\">    0</span> │ <span style=\"color: #008080; text-decoration-color: #008080\"> 504100</span> │ <span style=\"color: #008080; text-decoration-color: #008080\"> 578500</span> │ <span style=\"color: #008080; text-decoration-color: #008080\"> 20000</span> │ <span style=\"color: #008080; text-decoration-color: #008080\"> 208700</span> │ <span style=\"color: #008080; text-decoration-color: #008080\"> 350000</span> │ <span style=\"color: #008080; text-decoration-color: #008080\">600000</span> │ <span style=\"color: #008080; text-decoration-color: #008080\">8900000</span> │ <span style=\"color: #008000; text-decoration-color: #008000\">  ▇   </span> │  │\n",
       "│ │ <span style=\"color: #af87ff; text-decoration-color: #af87ff\">km_driven      </span> │ <span style=\"color: #008080; text-decoration-color: #008080\">  0</span> │ <span style=\"color: #008080; text-decoration-color: #008080\">    0</span> │ <span style=\"color: #008080; text-decoration-color: #008080\">  66220</span> │ <span style=\"color: #008080; text-decoration-color: #008080\">  46640</span> │ <span style=\"color: #008080; text-decoration-color: #008080\">     1</span> │ <span style=\"color: #008080; text-decoration-color: #008080\">  35000</span> │ <span style=\"color: #008080; text-decoration-color: #008080\">  60000</span> │ <span style=\"color: #008080; text-decoration-color: #008080\"> 90000</span> │ <span style=\"color: #008080; text-decoration-color: #008080\"> 806600</span> │ <span style=\"color: #008000; text-decoration-color: #008000\">  ▇   </span> │  │\n",
       "│ └─────────────────┴─────┴───────┴─────────┴─────────┴────────┴─────────┴─────────┴────────┴─────────┴────────┘  │\n",
       "│ <span style=\"font-style: italic\">                                                    string                                                    </span>  │\n",
       "│ ┏━━━━━━━━━━━━━━━━━━━━━━━━━━━━┳━━━━━━━━┳━━━━━━━━━━━━┳━━━━━━━━━━━━━━━━━━━━━━━━━━━━━━┳━━━━━━━━━━━━━━━━━━━━━━━━━━┓  │\n",
       "│ ┃<span style=\"font-weight: bold\"> column_name                </span>┃<span style=\"font-weight: bold\"> NA     </span>┃<span style=\"font-weight: bold\"> NA %       </span>┃<span style=\"font-weight: bold\"> words per row                </span>┃<span style=\"font-weight: bold\"> total words              </span>┃  │\n",
       "│ ┡━━━━━━━━━━━━━━━━━━━━━━━━━━━━╇━━━━━━━━╇━━━━━━━━━━━━╇━━━━━━━━━━━━━━━━━━━━━━━━━━━━━━╇━━━━━━━━━━━━━━━━━━━━━━━━━━┩  │\n",
       "│ │ <span style=\"color: #af87ff; text-decoration-color: #af87ff\">name                      </span> │ <span style=\"color: #008080; text-decoration-color: #008080\">     0</span> │ <span style=\"color: #008080; text-decoration-color: #008080\">         0</span> │ <span style=\"color: #008080; text-decoration-color: #008080\">                         4.7</span> │ <span style=\"color: #008080; text-decoration-color: #008080\">                   20194</span> │  │\n",
       "│ │ <span style=\"color: #af87ff; text-decoration-color: #af87ff\">fuel                      </span> │ <span style=\"color: #008080; text-decoration-color: #008080\">     0</span> │ <span style=\"color: #008080; text-decoration-color: #008080\">         0</span> │ <span style=\"color: #008080; text-decoration-color: #008080\">                           1</span> │ <span style=\"color: #008080; text-decoration-color: #008080\">                    4340</span> │  │\n",
       "│ │ <span style=\"color: #af87ff; text-decoration-color: #af87ff\">seller_type               </span> │ <span style=\"color: #008080; text-decoration-color: #008080\">     0</span> │ <span style=\"color: #008080; text-decoration-color: #008080\">         0</span> │ <span style=\"color: #008080; text-decoration-color: #008080\">                           1</span> │ <span style=\"color: #008080; text-decoration-color: #008080\">                    4442</span> │  │\n",
       "│ │ <span style=\"color: #af87ff; text-decoration-color: #af87ff\">transmission              </span> │ <span style=\"color: #008080; text-decoration-color: #008080\">     0</span> │ <span style=\"color: #008080; text-decoration-color: #008080\">         0</span> │ <span style=\"color: #008080; text-decoration-color: #008080\">                           1</span> │ <span style=\"color: #008080; text-decoration-color: #008080\">                    4340</span> │  │\n",
       "│ │ <span style=\"color: #af87ff; text-decoration-color: #af87ff\">owner                     </span> │ <span style=\"color: #008080; text-decoration-color: #008080\">     0</span> │ <span style=\"color: #008080; text-decoration-color: #008080\">         0</span> │ <span style=\"color: #008080; text-decoration-color: #008080\">                           2</span> │ <span style=\"color: #008080; text-decoration-color: #008080\">                    8859</span> │  │\n",
       "│ └────────────────────────────┴────────┴────────────┴──────────────────────────────┴──────────────────────────┘  │\n",
       "╰────────────────────────────────────────────────────── End ──────────────────────────────────────────────────────╯\n",
       "</pre>\n"
      ],
      "text/plain": [
       "╭──────────────────────────────────────────────── skimpy summary ─────────────────────────────────────────────────╮\n",
       "│ \u001b[3m         Data Summary         \u001b[0m \u001b[3m      Data Types       \u001b[0m                                                          │\n",
       "│ ┏━━━━━━━━━━━━━━━━━━━┳━━━━━━━━┓ ┏━━━━━━━━━━━━━┳━━━━━━━┓                                                          │\n",
       "│ ┃\u001b[1;36m \u001b[0m\u001b[1;36mdataframe        \u001b[0m\u001b[1;36m \u001b[0m┃\u001b[1;36m \u001b[0m\u001b[1;36mValues\u001b[0m\u001b[1;36m \u001b[0m┃ ┃\u001b[1;36m \u001b[0m\u001b[1;36mColumn Type\u001b[0m\u001b[1;36m \u001b[0m┃\u001b[1;36m \u001b[0m\u001b[1;36mCount\u001b[0m\u001b[1;36m \u001b[0m┃                                                          │\n",
       "│ ┡━━━━━━━━━━━━━━━━━━━╇━━━━━━━━┩ ┡━━━━━━━━━━━━━╇━━━━━━━┩                                                          │\n",
       "│ │ Number of rows    │ 4340   │ │ string      │ 5     │                                                          │\n",
       "│ │ Number of columns │ 8      │ │ int32       │ 3     │                                                          │\n",
       "│ └───────────────────┴────────┘ └─────────────┴───────┘                                                          │\n",
       "│ \u001b[3m                                                    number                                                    \u001b[0m  │\n",
       "│ ┏━━━━━━━━━━━━━━━━━┳━━━━━┳━━━━━━━┳━━━━━━━━━┳━━━━━━━━━┳━━━━━━━━┳━━━━━━━━━┳━━━━━━━━━┳━━━━━━━━┳━━━━━━━━━┳━━━━━━━━┓  │\n",
       "│ ┃\u001b[1m \u001b[0m\u001b[1mcolumn_name    \u001b[0m\u001b[1m \u001b[0m┃\u001b[1m \u001b[0m\u001b[1mNA \u001b[0m\u001b[1m \u001b[0m┃\u001b[1m \u001b[0m\u001b[1mNA % \u001b[0m\u001b[1m \u001b[0m┃\u001b[1m \u001b[0m\u001b[1mmean   \u001b[0m\u001b[1m \u001b[0m┃\u001b[1m \u001b[0m\u001b[1msd     \u001b[0m\u001b[1m \u001b[0m┃\u001b[1m \u001b[0m\u001b[1mp0    \u001b[0m\u001b[1m \u001b[0m┃\u001b[1m \u001b[0m\u001b[1mp25    \u001b[0m\u001b[1m \u001b[0m┃\u001b[1m \u001b[0m\u001b[1mp50    \u001b[0m\u001b[1m \u001b[0m┃\u001b[1m \u001b[0m\u001b[1mp75   \u001b[0m\u001b[1m \u001b[0m┃\u001b[1m \u001b[0m\u001b[1mp100   \u001b[0m\u001b[1m \u001b[0m┃\u001b[1m \u001b[0m\u001b[1mhist  \u001b[0m\u001b[1m \u001b[0m┃  │\n",
       "│ ┡━━━━━━━━━━━━━━━━━╇━━━━━╇━━━━━━━╇━━━━━━━━━╇━━━━━━━━━╇━━━━━━━━╇━━━━━━━━━╇━━━━━━━━━╇━━━━━━━━╇━━━━━━━━━╇━━━━━━━━┩  │\n",
       "│ │ \u001b[38;5;141myear           \u001b[0m │ \u001b[36m  0\u001b[0m │ \u001b[36m    0\u001b[0m │ \u001b[36m   2013\u001b[0m │ \u001b[36m  4.215\u001b[0m │ \u001b[36m  1992\u001b[0m │ \u001b[36m   2011\u001b[0m │ \u001b[36m   2014\u001b[0m │ \u001b[36m  2016\u001b[0m │ \u001b[36m   2020\u001b[0m │ \u001b[32m  ▁▃▇▆\u001b[0m │  │\n",
       "│ │ \u001b[38;5;141mselling_price  \u001b[0m │ \u001b[36m  0\u001b[0m │ \u001b[36m    0\u001b[0m │ \u001b[36m 504100\u001b[0m │ \u001b[36m 578500\u001b[0m │ \u001b[36m 20000\u001b[0m │ \u001b[36m 208700\u001b[0m │ \u001b[36m 350000\u001b[0m │ \u001b[36m600000\u001b[0m │ \u001b[36m8900000\u001b[0m │ \u001b[32m  ▇   \u001b[0m │  │\n",
       "│ │ \u001b[38;5;141mkm_driven      \u001b[0m │ \u001b[36m  0\u001b[0m │ \u001b[36m    0\u001b[0m │ \u001b[36m  66220\u001b[0m │ \u001b[36m  46640\u001b[0m │ \u001b[36m     1\u001b[0m │ \u001b[36m  35000\u001b[0m │ \u001b[36m  60000\u001b[0m │ \u001b[36m 90000\u001b[0m │ \u001b[36m 806600\u001b[0m │ \u001b[32m  ▇   \u001b[0m │  │\n",
       "│ └─────────────────┴─────┴───────┴─────────┴─────────┴────────┴─────────┴─────────┴────────┴─────────┴────────┘  │\n",
       "│ \u001b[3m                                                    string                                                    \u001b[0m  │\n",
       "│ ┏━━━━━━━━━━━━━━━━━━━━━━━━━━━━┳━━━━━━━━┳━━━━━━━━━━━━┳━━━━━━━━━━━━━━━━━━━━━━━━━━━━━━┳━━━━━━━━━━━━━━━━━━━━━━━━━━┓  │\n",
       "│ ┃\u001b[1m \u001b[0m\u001b[1mcolumn_name               \u001b[0m\u001b[1m \u001b[0m┃\u001b[1m \u001b[0m\u001b[1mNA    \u001b[0m\u001b[1m \u001b[0m┃\u001b[1m \u001b[0m\u001b[1mNA %      \u001b[0m\u001b[1m \u001b[0m┃\u001b[1m \u001b[0m\u001b[1mwords per row               \u001b[0m\u001b[1m \u001b[0m┃\u001b[1m \u001b[0m\u001b[1mtotal words             \u001b[0m\u001b[1m \u001b[0m┃  │\n",
       "│ ┡━━━━━━━━━━━━━━━━━━━━━━━━━━━━╇━━━━━━━━╇━━━━━━━━━━━━╇━━━━━━━━━━━━━━━━━━━━━━━━━━━━━━╇━━━━━━━━━━━━━━━━━━━━━━━━━━┩  │\n",
       "│ │ \u001b[38;5;141mname                      \u001b[0m │ \u001b[36m     0\u001b[0m │ \u001b[36m         0\u001b[0m │ \u001b[36m                         4.7\u001b[0m │ \u001b[36m                   20194\u001b[0m │  │\n",
       "│ │ \u001b[38;5;141mfuel                      \u001b[0m │ \u001b[36m     0\u001b[0m │ \u001b[36m         0\u001b[0m │ \u001b[36m                           1\u001b[0m │ \u001b[36m                    4340\u001b[0m │  │\n",
       "│ │ \u001b[38;5;141mseller_type               \u001b[0m │ \u001b[36m     0\u001b[0m │ \u001b[36m         0\u001b[0m │ \u001b[36m                           1\u001b[0m │ \u001b[36m                    4442\u001b[0m │  │\n",
       "│ │ \u001b[38;5;141mtransmission              \u001b[0m │ \u001b[36m     0\u001b[0m │ \u001b[36m         0\u001b[0m │ \u001b[36m                           1\u001b[0m │ \u001b[36m                    4340\u001b[0m │  │\n",
       "│ │ \u001b[38;5;141mowner                     \u001b[0m │ \u001b[36m     0\u001b[0m │ \u001b[36m         0\u001b[0m │ \u001b[36m                           2\u001b[0m │ \u001b[36m                    8859\u001b[0m │  │\n",
       "│ └────────────────────────────┴────────┴────────────┴──────────────────────────────┴──────────────────────────┘  │\n",
       "╰────────────────────────────────────────────────────── End ──────────────────────────────────────────────────────╯\n"
      ]
     },
     "metadata": {},
     "output_type": "display_data"
    }
   ],
   "source": [
    "### !pip install skimpy\n",
    "from skimpy import skim # fajny moduł do generowania opisu danych, wg mnie lepszy od funkcji describe() z pandas\n",
    "skim(cars)"
   ]
  },
  {
   "cell_type": "markdown",
   "id": "ca879e03",
   "metadata": {},
   "source": [
    "<h5> Considering the mean and standard deviation, the columns <b>selling_price</b> and <b>km_driven</b> have outliers </h5>\n",
    "<h5> On the other hand, both columns have a wide range of values, so using the mean may not be the best approach (selling_price ranges from 20k to 8 million).</h5>\n",
    "I have decided to use the IQR method for outlier detection."
   ]
  },
  {
   "cell_type": "code",
   "execution_count": 23,
   "id": "a8813976",
   "metadata": {},
   "outputs": [],
   "source": [
    "def IQR_method(df_column, threshold = 2):\n",
    "    Q1, Q3 = np.percentile(df_column, [25,75])\n",
    "    IQR = Q3-Q1\n",
    "    outliers = []\n",
    "    for item in df_column:\n",
    "        if item < (Q1 - threshold*IQR) or item > (Q3 + threshold*IQR):\n",
    "            outliers.append(item)\n",
    "    return outliers"
   ]
  },
  {
   "cell_type": "code",
   "execution_count": 24,
   "id": "3852a3b5",
   "metadata": {},
   "outputs": [
    {
     "data": {
      "text/plain": [
       "191"
      ]
     },
     "execution_count": 24,
     "metadata": {},
     "output_type": "execute_result"
    }
   ],
   "source": [
    "len(IQR_method(cars['selling_price']))"
   ]
  },
  {
   "cell_type": "code",
   "execution_count": 25,
   "id": "8a66e7a8",
   "metadata": {},
   "outputs": [
    {
     "data": {
      "text/plain": [
       "57"
      ]
     },
     "execution_count": 25,
     "metadata": {},
     "output_type": "execute_result"
    }
   ],
   "source": [
    "len(IQR_method(cars['km_driven'])) "
   ]
  },
  {
   "cell_type": "markdown",
   "id": "74da99f3",
   "metadata": {},
   "source": [
    "Outliers weren't replaced or deleted, beacause I wanted to check response of the ML models"
   ]
  },
  {
   "cell_type": "markdown",
   "id": "330931c7",
   "metadata": {},
   "source": [
    "Histograms of numerical values"
   ]
  },
  {
   "cell_type": "code",
   "execution_count": 26,
   "id": "95e2fb81",
   "metadata": {},
   "outputs": [
    {
     "name": "stderr",
     "output_type": "stream",
     "text": [
      "c:\\Users\\kamil\\anaconda3\\Lib\\site-packages\\seaborn\\_oldcore.py:1119: FutureWarning: use_inf_as_na option is deprecated and will be removed in a future version. Convert inf values to NaN before operating instead.\n",
      "  with pd.option_context('mode.use_inf_as_na', True):\n",
      "c:\\Users\\kamil\\anaconda3\\Lib\\site-packages\\seaborn\\_oldcore.py:1119: FutureWarning: use_inf_as_na option is deprecated and will be removed in a future version. Convert inf values to NaN before operating instead.\n",
      "  with pd.option_context('mode.use_inf_as_na', True):\n",
      "c:\\Users\\kamil\\anaconda3\\Lib\\site-packages\\seaborn\\_oldcore.py:1119: FutureWarning: use_inf_as_na option is deprecated and will be removed in a future version. Convert inf values to NaN before operating instead.\n",
      "  with pd.option_context('mode.use_inf_as_na', True):\n"
     ]
    },
    {
     "data": {
      "image/png": "[encoded data removed]",
      "text/plain": [
       "<Figure size 2400x500 with 3 Axes>"
      ]
     },
     "metadata": {},
     "output_type": "display_data"
    }
   ],
   "source": [
    "import seaborn as sns\n",
    "\n",
    "cars_copy = cars[['year','selling_price','km_driven']]\n",
    "def figure_histplots(df):    \n",
    "    fig, axes = plt.subplots(nrows=1, ncols=3)\n",
    "    fig.set_size_inches(24,5)\n",
    "    for column, index in zip(df.columns, [0,1,2]):\n",
    "        sns.histplot(data=sorted(df[column]), ax=axes[index], color='orange', edgecolor='red')\n",
    "        axes[index].set_title(column)\n",
    "        axes[index].tick_params(axis='x', labelrotation=45)\n",
    "    plt.tight_layout()\n",
    "    fig.savefig('histograms_1.jpg', dpi='figure', format='jpg')\n",
    "    del df\n",
    "    pass\n",
    "\n",
    "figure_histplots(cars_copy)"
   ]
  },
  {
   "cell_type": "markdown",
   "id": "a8faa548",
   "metadata": {},
   "source": [
    "Boxplots"
   ]
  },
  {
   "cell_type": "code",
   "execution_count": 27,
   "id": "a261c99b",
   "metadata": {},
   "outputs": [
    {
     "name": "stdout",
     "output_type": "stream",
     "text": [
      "fuel\n",
      "Diesel      2153\n",
      "Petrol      2123\n",
      "CNG           40\n",
      "LPG           23\n",
      "Electric       1\n",
      "Name: count, dtype: int64\n",
      "seller_type\n",
      "Individual          3244\n",
      "Dealer               994\n",
      "Trustmark Dealer     102\n",
      "Name: count, dtype: int64\n",
      "transmission\n",
      "Manual       3892\n",
      "Automatic     448\n",
      "Name: count, dtype: int64\n",
      "owner\n",
      "First Owner             2832\n",
      "Second Owner            1106\n",
      "Third Owner              304\n",
      "Fourth & Above Owner      81\n",
      "Test Drive Car            17\n",
      "Name: count, dtype: int64\n"
     ]
    }
   ],
   "source": [
    "cars_copy = cars.drop(columns = ['name','year','selling_price','km_driven'])\n",
    "for column in cars_copy.columns:\n",
    "    print(cars_copy[column].value_counts())\n"
   ]
  },
  {
   "cell_type": "code",
   "execution_count": 28,
   "id": "4707b020",
   "metadata": {},
   "outputs": [
    {
     "data": {
      "image/png": "[encoded data removed]",
      "text/plain": [
       "<Figure size 2400x500 with 3 Axes>"
      ]
     },
     "metadata": {},
     "output_type": "display_data"
    }
   ],
   "source": [
    "cars_copy = cars[['year','selling_price','km_driven']]\n",
    "def figure_boxplots(df):    \n",
    "    fig, axes = plt.subplots(nrows=1, ncols=3)\n",
    "    fig.set_size_inches(24,5)\n",
    "    for column, index in zip(df.columns, [0,1,2]):\n",
    "        sns.boxplot(data=sorted(df[column]), ax=axes[index], color='lightblue')\n",
    "        axes[index].set_title(column)\n",
    "        axes[index].tick_params(axis='x', labelrotation=45)\n",
    "    plt.tight_layout()\n",
    "    fig.savefig('boxplots.jpg', dpi='figure', format='jpg')\n",
    "    del df\n",
    "    pass\n",
    "\n",
    "figure_boxplots(cars_copy)"
   ]
  },
  {
   "cell_type": "code",
   "execution_count": 29,
   "id": "650a0481",
   "metadata": {},
   "outputs": [],
   "source": [
    "cars_copy = cars[['year','selling_price','km_driven']]\n"
   ]
  },
  {
   "cell_type": "code",
   "execution_count": 30,
   "id": "65c4f030",
   "metadata": {},
   "outputs": [
    {
     "data": {
      "image/png": "[encoded data removed]",
      "text/plain": [
       "<Figure size 1000x1000 with 4 Axes>"
      ]
     },
     "metadata": {},
     "output_type": "display_data"
    }
   ],
   "source": [
    "cars_copy = cars.drop(columns = ['name','year','selling_price','km_driven'])\n",
    "def figure_count_plots(df):    \n",
    "    fig, axes = plt.subplots(nrows=2, ncols=2)\n",
    "    fig.set_size_inches(10,10)\n",
    "    for column, (i, j) in zip(df.columns,[(a, b) for a in range(2) for b in range(2)]):\n",
    "        sns.countplot(x=column, data=df, order=df[column].value_counts().index, ax=axes[i, j])\n",
    "        axes[i, j].set_title(column)\n",
    "        axes[i, j].tick_params(axis='x', labelrotation=45)\n",
    "    plt.tight_layout()\n",
    "    fig.savefig('count_plots.jpg', dpi='figure', format='jpg')\n",
    "    del df\n",
    "    pass\n",
    "\n",
    "figure_count_plots(cars_copy)"
   ]
  },
  {
   "cell_type": "markdown",
   "id": "dc47a6f7",
   "metadata": {},
   "source": [
    "### Reducing the number of categories in columns fuel, seller_type, owner"
   ]
  },
  {
   "cell_type": "code",
   "execution_count": 31,
   "id": "d39f8dc1",
   "metadata": {},
   "outputs": [],
   "source": [
    "cars_copy_data = cars.copy()"
   ]
  },
  {
   "cell_type": "code",
   "execution_count": 32,
   "id": "6575b713",
   "metadata": {},
   "outputs": [],
   "source": [
    "(cars['fuel'] == 'Electric').sum() ## 1\n",
    "(cars['fuel'] == 'CNG').sum() ## 40\n",
    "(cars['fuel'] == 'LPG').sum() ## 23\n",
    "\n",
    "# This categories will be summed up into 'other' category\n",
    "\n",
    "cars_copy_data['fuel'] = cars_copy_data['fuel'].apply(lambda x: 'Other' if x != 'Diesel' and x != 'Petrol' else x)\n"
   ]
  },
  {
   "cell_type": "code",
   "execution_count": 33,
   "id": "ff6d3ab8",
   "metadata": {},
   "outputs": [],
   "source": [
    "(cars['seller_type'] == 'Dealer').sum() ## 994\n",
    "(cars['seller_type'] == 'Trustmark Dealer').sum() ## 102 - low value compared to Dealer, so I will include it in the 'Dealer' category\n",
    "\n",
    "cars_copy_data['seller_type'] = cars_copy_data['seller_type'].apply(lambda x: 'Dealer' if x == 'Trustmark Dealer' else x)"
   ]
  },
  {
   "cell_type": "code",
   "execution_count": 34,
   "id": "a44beb19",
   "metadata": {},
   "outputs": [
    {
     "name": "stdout",
     "output_type": "stream",
     "text": [
      "304\n",
      "81\n",
      "17\n"
     ]
    }
   ],
   "source": [
    "print((cars['owner'] == 'Third Owner').sum()) ## 304\n",
    "print((cars['owner'] == 'Fourth & Above Owner').sum()) ## 81\n",
    "print((cars['owner'] == 'Test Drive Car').sum()) ## 17 \n",
    "\n",
    "cars_copy_data['owner'] = cars_copy_data['owner'].apply(lambda x: 'Third Plus Owner' if x != 'First Owner' and x != 'Second Owner' else x)"
   ]
  },
  {
   "cell_type": "code",
   "execution_count": 35,
   "id": "371e43f2",
   "metadata": {},
   "outputs": [
    {
     "data": {
      "image/png": "[encoded data removed]",
      "text/plain": [
       "<Figure size 1000x1000 with 4 Axes>"
      ]
     },
     "metadata": {},
     "output_type": "display_data"
    }
   ],
   "source": [
    "figure_count_plots(cars_copy_data.drop(columns = ['name','year','selling_price','km_driven']))"
   ]
  },
  {
   "cell_type": "code",
   "execution_count": 36,
   "id": "fe86f4af",
   "metadata": {},
   "outputs": [
    {
     "data": {
      "text/html": [
       "<div>\n",
       "<style scoped>\n",
       "    .dataframe tbody tr th:only-of-type {\n",
       "        vertical-align: middle;\n",
       "    }\n",
       "\n",
       "    .dataframe tbody tr th {\n",
       "        vertical-align: top;\n",
       "    }\n",
       "\n",
       "    .dataframe thead th {\n",
       "        text-align: right;\n",
       "    }\n",
       "</style>\n",
       "<table border=\"1\" class=\"dataframe\">\n",
       "  <thead>\n",
       "    <tr style=\"text-align: right;\">\n",
       "      <th></th>\n",
       "      <th>name</th>\n",
       "      <th>year</th>\n",
       "      <th>selling_price</th>\n",
       "      <th>km_driven</th>\n",
       "      <th>fuel</th>\n",
       "      <th>seller_type</th>\n",
       "      <th>transmission</th>\n",
       "      <th>owner</th>\n",
       "    </tr>\n",
       "  </thead>\n",
       "  <tbody>\n",
       "    <tr>\n",
       "      <th>0</th>\n",
       "      <td>Maruti 800 AC</td>\n",
       "      <td>2007</td>\n",
       "      <td>60000</td>\n",
       "      <td>70000</td>\n",
       "      <td>Petrol</td>\n",
       "      <td>Individual</td>\n",
       "      <td>Manual</td>\n",
       "      <td>First Owner</td>\n",
       "    </tr>\n",
       "    <tr>\n",
       "      <th>1</th>\n",
       "      <td>Maruti Wagon R LXI Minor</td>\n",
       "      <td>2007</td>\n",
       "      <td>135000</td>\n",
       "      <td>50000</td>\n",
       "      <td>Petrol</td>\n",
       "      <td>Individual</td>\n",
       "      <td>Manual</td>\n",
       "      <td>First Owner</td>\n",
       "    </tr>\n",
       "    <tr>\n",
       "      <th>2</th>\n",
       "      <td>Hyundai Verna 1.6 SX</td>\n",
       "      <td>2012</td>\n",
       "      <td>600000</td>\n",
       "      <td>100000</td>\n",
       "      <td>Diesel</td>\n",
       "      <td>Individual</td>\n",
       "      <td>Manual</td>\n",
       "      <td>First Owner</td>\n",
       "    </tr>\n",
       "    <tr>\n",
       "      <th>3</th>\n",
       "      <td>Datsun RediGO T Option</td>\n",
       "      <td>2017</td>\n",
       "      <td>250000</td>\n",
       "      <td>46000</td>\n",
       "      <td>Petrol</td>\n",
       "      <td>Individual</td>\n",
       "      <td>Manual</td>\n",
       "      <td>First Owner</td>\n",
       "    </tr>\n",
       "    <tr>\n",
       "      <th>4</th>\n",
       "      <td>Honda Amaze VX i-DTEC</td>\n",
       "      <td>2014</td>\n",
       "      <td>450000</td>\n",
       "      <td>141000</td>\n",
       "      <td>Diesel</td>\n",
       "      <td>Individual</td>\n",
       "      <td>Manual</td>\n",
       "      <td>Second Owner</td>\n",
       "    </tr>\n",
       "  </tbody>\n",
       "</table>\n",
       "</div>"
      ],
      "text/plain": [
       "                       name  year  selling_price  km_driven    fuel  \\\n",
       "0             Maruti 800 AC  2007          60000      70000  Petrol   \n",
       "1  Maruti Wagon R LXI Minor  2007         135000      50000  Petrol   \n",
       "2      Hyundai Verna 1.6 SX  2012         600000     100000  Diesel   \n",
       "3    Datsun RediGO T Option  2017         250000      46000  Petrol   \n",
       "4     Honda Amaze VX i-DTEC  2014         450000     141000  Diesel   \n",
       "\n",
       "  seller_type transmission         owner  \n",
       "0  Individual       Manual   First Owner  \n",
       "1  Individual       Manual   First Owner  \n",
       "2  Individual       Manual   First Owner  \n",
       "3  Individual       Manual   First Owner  \n",
       "4  Individual       Manual  Second Owner  "
      ]
     },
     "execution_count": 36,
     "metadata": {},
     "output_type": "execute_result"
    }
   ],
   "source": [
    "cars_copy_data.head()"
   ]
  },
  {
   "cell_type": "code",
   "execution_count": 37,
   "id": "2b3c09fd",
   "metadata": {},
   "outputs": [
    {
     "data": {
      "text/plain": [
       "'Ford'"
      ]
     },
     "execution_count": 37,
     "metadata": {},
     "output_type": "execute_result"
    }
   ],
   "source": [
    "strin = 'Ford Focus'\n",
    "strin.split(' ')[0]"
   ]
  },
  {
   "cell_type": "markdown",
   "id": "df823dbf",
   "metadata": {},
   "source": [
    "### Extracting the car brand from the dataset - I think the car brand also influences the price, however, more data related to customer choices on the given site would be needed"
   ]
  },
  {
   "cell_type": "code",
   "execution_count": 38,
   "id": "44867796",
   "metadata": {},
   "outputs": [
    {
     "data": {
      "text/plain": [
       "0        Maruti\n",
       "1        Maruti\n",
       "2       Hyundai\n",
       "3        Datsun\n",
       "4         Honda\n",
       "         ...   \n",
       "4335    Hyundai\n",
       "4336    Hyundai\n",
       "4337     Maruti\n",
       "4338    Hyundai\n",
       "4339    Renault\n",
       "Name: name, Length: 4340, dtype: object"
      ]
     },
     "execution_count": 38,
     "metadata": {},
     "output_type": "execute_result"
    }
   ],
   "source": [
    "cars_copy_data['name'] = cars_copy_data['name'].apply(lambda x: x.split(' ')[0])\n",
    "cars_copy_data['name']"
   ]
  },
  {
   "cell_type": "code",
   "execution_count": 39,
   "id": "53bc3e6c",
   "metadata": {},
   "outputs": [
    {
     "data": {
      "image/png": "[encoded data removed]",
      "text/plain": [
       "<Figure size 640x480 with 1 Axes>"
      ]
     },
     "metadata": {},
     "output_type": "display_data"
    }
   ],
   "source": [
    "plot = sns.countplot(x='name', data=cars_copy_data, order=cars_copy_data['name'].value_counts().index)\n",
    "plot.set_title('name')\n",
    "plot.tick_params(axis='x', labelrotation=90)"
   ]
  },
  {
   "cell_type": "code",
   "execution_count": 40,
   "id": "fff96de3",
   "metadata": {},
   "outputs": [],
   "source": [
    "to_other = ['Jaguar','Mitsubishi','Land','Volvo','Ambassador','Jeep','MG','OpelCorsa','Daewoo','Force','Isuzu','Kia']\n",
    "cars_copy_data['name'] = cars_copy_data['name'].apply(lambda x: 'Other' if x in to_other else x)"
   ]
  },
  {
   "cell_type": "code",
   "execution_count": 41,
   "id": "2d9c3df5",
   "metadata": {},
   "outputs": [
    {
     "data": {
      "image/png": "[encoded data removed]",
      "text/plain": [
       "<Figure size 640x480 with 1 Axes>"
      ]
     },
     "metadata": {},
     "output_type": "display_data"
    }
   ],
   "source": [
    "plot = sns.countplot(x='name', data=cars_copy_data, order=cars_copy_data['name'].value_counts().index)\n",
    "plot.set_title('name')\n",
    "plot.tick_params(axis='x', labelrotation=90)"
   ]
  },
  {
   "cell_type": "markdown",
   "id": "a7a09c86",
   "metadata": {},
   "source": [
    "### Przegląd wartości maksymalnych i minimalnych - marki takie jak Mercedes, Audi i BMW są w wyższych tierach cenowych"
   ]
  },
  {
   "cell_type": "code",
   "execution_count": 42,
   "id": "aab89ca4",
   "metadata": {},
   "outputs": [
    {
     "name": "stdout",
     "output_type": "stream",
     "text": [
      "name\n",
      "Audi             8900000\n",
      "BMW              4950000\n",
      "Chevrolet        1000000\n",
      "Datsun            450000\n",
      "Fiat              890000\n",
      "Ford             3200000\n",
      "Honda            1800000\n",
      "Hyundai          1650000\n",
      "Mahindra         2700000\n",
      "Maruti           1100000\n",
      "Mercedes-Benz    8150000\n",
      "Nissan           1350000\n",
      "Other            4500000\n",
      "Renault          1000000\n",
      "Skoda            1200000\n",
      "Tata             1700000\n",
      "Toyota           3200000\n",
      "Volkswagen       1350000\n",
      "Name: selling_price, dtype: int64\n"
     ]
    }
   ],
   "source": [
    "print(cars_copy_data.groupby('name')['selling_price'].max())"
   ]
  },
  {
   "cell_type": "code",
   "execution_count": 43,
   "id": "d46814bb",
   "metadata": {},
   "outputs": [
    {
     "name": "stdout",
     "output_type": "stream",
     "text": [
      "name\n",
      "Audi             650000\n",
      "BMW              480000\n",
      "Chevrolet         50000\n",
      "Datsun           200000\n",
      "Fiat              55000\n",
      "Ford              20000\n",
      "Honda             65000\n",
      "Hyundai           48000\n",
      "Mahindra          80000\n",
      "Maruti            30000\n",
      "Mercedes-Benz    350000\n",
      "Nissan           138000\n",
      "Other             35000\n",
      "Renault          200000\n",
      "Skoda             90000\n",
      "Tata              35000\n",
      "Toyota            95000\n",
      "Volkswagen       130000\n",
      "Name: selling_price, dtype: int64\n"
     ]
    }
   ],
   "source": [
    "print(cars_copy_data.groupby('name')['selling_price'].min())"
   ]
  },
  {
   "cell_type": "code",
   "execution_count": 44,
   "id": "153ad51f",
   "metadata": {},
   "outputs": [],
   "source": [
    "X = cars_copy_data.drop(columns=['selling_price'])\n",
    "y = cars_copy_data['selling_price']"
   ]
  },
  {
   "cell_type": "markdown",
   "id": "80b34cd0",
   "metadata": {},
   "source": [
    "#### Label encoding for owner column"
   ]
  },
  {
   "cell_type": "code",
   "execution_count": 45,
   "id": "7cc0e7b0",
   "metadata": {},
   "outputs": [],
   "source": [
    "encode_owner = {\n",
    "    'Third Plus Owner': 0,\n",
    "    'Second Owner': 1, \n",
    "    'First Owner': 2, \n",
    "}\n",
    "\n",
    "X['owner'] = cars_copy_data['owner'].apply(lambda x: encode_owner[x])"
   ]
  },
  {
   "cell_type": "code",
   "execution_count": 46,
   "id": "04407f04",
   "metadata": {},
   "outputs": [
    {
     "data": {
      "text/html": [
       "<div>\n",
       "<style scoped>\n",
       "    .dataframe tbody tr th:only-of-type {\n",
       "        vertical-align: middle;\n",
       "    }\n",
       "\n",
       "    .dataframe tbody tr th {\n",
       "        vertical-align: top;\n",
       "    }\n",
       "\n",
       "    .dataframe thead th {\n",
       "        text-align: right;\n",
       "    }\n",
       "</style>\n",
       "<table border=\"1\" class=\"dataframe\">\n",
       "  <thead>\n",
       "    <tr style=\"text-align: right;\">\n",
       "      <th></th>\n",
       "      <th>name</th>\n",
       "      <th>year</th>\n",
       "      <th>km_driven</th>\n",
       "      <th>fuel</th>\n",
       "      <th>seller_type</th>\n",
       "      <th>transmission</th>\n",
       "      <th>owner</th>\n",
       "    </tr>\n",
       "  </thead>\n",
       "  <tbody>\n",
       "    <tr>\n",
       "      <th>0</th>\n",
       "      <td>Maruti</td>\n",
       "      <td>2007</td>\n",
       "      <td>70000</td>\n",
       "      <td>Petrol</td>\n",
       "      <td>Individual</td>\n",
       "      <td>Manual</td>\n",
       "      <td>2</td>\n",
       "    </tr>\n",
       "    <tr>\n",
       "      <th>1</th>\n",
       "      <td>Maruti</td>\n",
       "      <td>2007</td>\n",
       "      <td>50000</td>\n",
       "      <td>Petrol</td>\n",
       "      <td>Individual</td>\n",
       "      <td>Manual</td>\n",
       "      <td>2</td>\n",
       "    </tr>\n",
       "    <tr>\n",
       "      <th>2</th>\n",
       "      <td>Hyundai</td>\n",
       "      <td>2012</td>\n",
       "      <td>100000</td>\n",
       "      <td>Diesel</td>\n",
       "      <td>Individual</td>\n",
       "      <td>Manual</td>\n",
       "      <td>2</td>\n",
       "    </tr>\n",
       "    <tr>\n",
       "      <th>3</th>\n",
       "      <td>Datsun</td>\n",
       "      <td>2017</td>\n",
       "      <td>46000</td>\n",
       "      <td>Petrol</td>\n",
       "      <td>Individual</td>\n",
       "      <td>Manual</td>\n",
       "      <td>2</td>\n",
       "    </tr>\n",
       "    <tr>\n",
       "      <th>4</th>\n",
       "      <td>Honda</td>\n",
       "      <td>2014</td>\n",
       "      <td>141000</td>\n",
       "      <td>Diesel</td>\n",
       "      <td>Individual</td>\n",
       "      <td>Manual</td>\n",
       "      <td>1</td>\n",
       "    </tr>\n",
       "    <tr>\n",
       "      <th>...</th>\n",
       "      <td>...</td>\n",
       "      <td>...</td>\n",
       "      <td>...</td>\n",
       "      <td>...</td>\n",
       "      <td>...</td>\n",
       "      <td>...</td>\n",
       "      <td>...</td>\n",
       "    </tr>\n",
       "    <tr>\n",
       "      <th>4335</th>\n",
       "      <td>Hyundai</td>\n",
       "      <td>2014</td>\n",
       "      <td>80000</td>\n",
       "      <td>Diesel</td>\n",
       "      <td>Individual</td>\n",
       "      <td>Manual</td>\n",
       "      <td>1</td>\n",
       "    </tr>\n",
       "    <tr>\n",
       "      <th>4336</th>\n",
       "      <td>Hyundai</td>\n",
       "      <td>2014</td>\n",
       "      <td>80000</td>\n",
       "      <td>Diesel</td>\n",
       "      <td>Individual</td>\n",
       "      <td>Manual</td>\n",
       "      <td>1</td>\n",
       "    </tr>\n",
       "    <tr>\n",
       "      <th>4337</th>\n",
       "      <td>Maruti</td>\n",
       "      <td>2009</td>\n",
       "      <td>83000</td>\n",
       "      <td>Petrol</td>\n",
       "      <td>Individual</td>\n",
       "      <td>Manual</td>\n",
       "      <td>1</td>\n",
       "    </tr>\n",
       "    <tr>\n",
       "      <th>4338</th>\n",
       "      <td>Hyundai</td>\n",
       "      <td>2016</td>\n",
       "      <td>90000</td>\n",
       "      <td>Diesel</td>\n",
       "      <td>Individual</td>\n",
       "      <td>Manual</td>\n",
       "      <td>2</td>\n",
       "    </tr>\n",
       "    <tr>\n",
       "      <th>4339</th>\n",
       "      <td>Renault</td>\n",
       "      <td>2016</td>\n",
       "      <td>40000</td>\n",
       "      <td>Petrol</td>\n",
       "      <td>Individual</td>\n",
       "      <td>Manual</td>\n",
       "      <td>2</td>\n",
       "    </tr>\n",
       "  </tbody>\n",
       "</table>\n",
       "<p>4340 rows × 7 columns</p>\n",
       "</div>"
      ],
      "text/plain": [
       "         name  year  km_driven    fuel seller_type transmission  owner\n",
       "0      Maruti  2007      70000  Petrol  Individual       Manual      2\n",
       "1      Maruti  2007      50000  Petrol  Individual       Manual      2\n",
       "2     Hyundai  2012     100000  Diesel  Individual       Manual      2\n",
       "3      Datsun  2017      46000  Petrol  Individual       Manual      2\n",
       "4       Honda  2014     141000  Diesel  Individual       Manual      1\n",
       "...       ...   ...        ...     ...         ...          ...    ...\n",
       "4335  Hyundai  2014      80000  Diesel  Individual       Manual      1\n",
       "4336  Hyundai  2014      80000  Diesel  Individual       Manual      1\n",
       "4337   Maruti  2009      83000  Petrol  Individual       Manual      1\n",
       "4338  Hyundai  2016      90000  Diesel  Individual       Manual      2\n",
       "4339  Renault  2016      40000  Petrol  Individual       Manual      2\n",
       "\n",
       "[4340 rows x 7 columns]"
      ]
     },
     "execution_count": 46,
     "metadata": {},
     "output_type": "execute_result"
    }
   ],
   "source": [
    "X"
   ]
  },
  {
   "cell_type": "markdown",
   "id": "319f3591",
   "metadata": {},
   "source": [
    "#### One hot encoding for the rest categorical columns"
   ]
  },
  {
   "cell_type": "code",
   "execution_count": 47,
   "id": "faae4937",
   "metadata": {},
   "outputs": [],
   "source": [
    "X_encoded = pd.get_dummies(X, columns=['name','fuel','seller_type','transmission'])"
   ]
  },
  {
   "cell_type": "code",
   "execution_count": 48,
   "id": "2a4dea20",
   "metadata": {},
   "outputs": [
    {
     "data": {
      "text/html": [
       "<div>\n",
       "<style scoped>\n",
       "    .dataframe tbody tr th:only-of-type {\n",
       "        vertical-align: middle;\n",
       "    }\n",
       "\n",
       "    .dataframe tbody tr th {\n",
       "        vertical-align: top;\n",
       "    }\n",
       "\n",
       "    .dataframe thead th {\n",
       "        text-align: right;\n",
       "    }\n",
       "</style>\n",
       "<table border=\"1\" class=\"dataframe\">\n",
       "  <thead>\n",
       "    <tr style=\"text-align: right;\">\n",
       "      <th></th>\n",
       "      <th>year</th>\n",
       "      <th>km_driven</th>\n",
       "      <th>owner</th>\n",
       "      <th>name_Audi</th>\n",
       "      <th>name_BMW</th>\n",
       "      <th>name_Chevrolet</th>\n",
       "      <th>name_Datsun</th>\n",
       "      <th>name_Fiat</th>\n",
       "      <th>name_Ford</th>\n",
       "      <th>name_Honda</th>\n",
       "      <th>...</th>\n",
       "      <th>name_Tata</th>\n",
       "      <th>name_Toyota</th>\n",
       "      <th>name_Volkswagen</th>\n",
       "      <th>fuel_Diesel</th>\n",
       "      <th>fuel_Other</th>\n",
       "      <th>fuel_Petrol</th>\n",
       "      <th>seller_type_Dealer</th>\n",
       "      <th>seller_type_Individual</th>\n",
       "      <th>transmission_Automatic</th>\n",
       "      <th>transmission_Manual</th>\n",
       "    </tr>\n",
       "  </thead>\n",
       "  <tbody>\n",
       "    <tr>\n",
       "      <th>0</th>\n",
       "      <td>2007</td>\n",
       "      <td>70000</td>\n",
       "      <td>2</td>\n",
       "      <td>False</td>\n",
       "      <td>False</td>\n",
       "      <td>False</td>\n",
       "      <td>False</td>\n",
       "      <td>False</td>\n",
       "      <td>False</td>\n",
       "      <td>False</td>\n",
       "      <td>...</td>\n",
       "      <td>False</td>\n",
       "      <td>False</td>\n",
       "      <td>False</td>\n",
       "      <td>False</td>\n",
       "      <td>False</td>\n",
       "      <td>True</td>\n",
       "      <td>False</td>\n",
       "      <td>True</td>\n",
       "      <td>False</td>\n",
       "      <td>True</td>\n",
       "    </tr>\n",
       "    <tr>\n",
       "      <th>1</th>\n",
       "      <td>2007</td>\n",
       "      <td>50000</td>\n",
       "      <td>2</td>\n",
       "      <td>False</td>\n",
       "      <td>False</td>\n",
       "      <td>False</td>\n",
       "      <td>False</td>\n",
       "      <td>False</td>\n",
       "      <td>False</td>\n",
       "      <td>False</td>\n",
       "      <td>...</td>\n",
       "      <td>False</td>\n",
       "      <td>False</td>\n",
       "      <td>False</td>\n",
       "      <td>False</td>\n",
       "      <td>False</td>\n",
       "      <td>True</td>\n",
       "      <td>False</td>\n",
       "      <td>True</td>\n",
       "      <td>False</td>\n",
       "      <td>True</td>\n",
       "    </tr>\n",
       "    <tr>\n",
       "      <th>2</th>\n",
       "      <td>2012</td>\n",
       "      <td>100000</td>\n",
       "      <td>2</td>\n",
       "      <td>False</td>\n",
       "      <td>False</td>\n",
       "      <td>False</td>\n",
       "      <td>False</td>\n",
       "      <td>False</td>\n",
       "      <td>False</td>\n",
       "      <td>False</td>\n",
       "      <td>...</td>\n",
       "      <td>False</td>\n",
       "      <td>False</td>\n",
       "      <td>False</td>\n",
       "      <td>True</td>\n",
       "      <td>False</td>\n",
       "      <td>False</td>\n",
       "      <td>False</td>\n",
       "      <td>True</td>\n",
       "      <td>False</td>\n",
       "      <td>True</td>\n",
       "    </tr>\n",
       "    <tr>\n",
       "      <th>3</th>\n",
       "      <td>2017</td>\n",
       "      <td>46000</td>\n",
       "      <td>2</td>\n",
       "      <td>False</td>\n",
       "      <td>False</td>\n",
       "      <td>False</td>\n",
       "      <td>True</td>\n",
       "      <td>False</td>\n",
       "      <td>False</td>\n",
       "      <td>False</td>\n",
       "      <td>...</td>\n",
       "      <td>False</td>\n",
       "      <td>False</td>\n",
       "      <td>False</td>\n",
       "      <td>False</td>\n",
       "      <td>False</td>\n",
       "      <td>True</td>\n",
       "      <td>False</td>\n",
       "      <td>True</td>\n",
       "      <td>False</td>\n",
       "      <td>True</td>\n",
       "    </tr>\n",
       "    <tr>\n",
       "      <th>4</th>\n",
       "      <td>2014</td>\n",
       "      <td>141000</td>\n",
       "      <td>1</td>\n",
       "      <td>False</td>\n",
       "      <td>False</td>\n",
       "      <td>False</td>\n",
       "      <td>False</td>\n",
       "      <td>False</td>\n",
       "      <td>False</td>\n",
       "      <td>True</td>\n",
       "      <td>...</td>\n",
       "      <td>False</td>\n",
       "      <td>False</td>\n",
       "      <td>False</td>\n",
       "      <td>True</td>\n",
       "      <td>False</td>\n",
       "      <td>False</td>\n",
       "      <td>False</td>\n",
       "      <td>True</td>\n",
       "      <td>False</td>\n",
       "      <td>True</td>\n",
       "    </tr>\n",
       "    <tr>\n",
       "      <th>...</th>\n",
       "      <td>...</td>\n",
       "      <td>...</td>\n",
       "      <td>...</td>\n",
       "      <td>...</td>\n",
       "      <td>...</td>\n",
       "      <td>...</td>\n",
       "      <td>...</td>\n",
       "      <td>...</td>\n",
       "      <td>...</td>\n",
       "      <td>...</td>\n",
       "      <td>...</td>\n",
       "      <td>...</td>\n",
       "      <td>...</td>\n",
       "      <td>...</td>\n",
       "      <td>...</td>\n",
       "      <td>...</td>\n",
       "      <td>...</td>\n",
       "      <td>...</td>\n",
       "      <td>...</td>\n",
       "      <td>...</td>\n",
       "      <td>...</td>\n",
       "    </tr>\n",
       "    <tr>\n",
       "      <th>4335</th>\n",
       "      <td>2014</td>\n",
       "      <td>80000</td>\n",
       "      <td>1</td>\n",
       "      <td>False</td>\n",
       "      <td>False</td>\n",
       "      <td>False</td>\n",
       "      <td>False</td>\n",
       "      <td>False</td>\n",
       "      <td>False</td>\n",
       "      <td>False</td>\n",
       "      <td>...</td>\n",
       "      <td>False</td>\n",
       "      <td>False</td>\n",
       "      <td>False</td>\n",
       "      <td>True</td>\n",
       "      <td>False</td>\n",
       "      <td>False</td>\n",
       "      <td>False</td>\n",
       "      <td>True</td>\n",
       "      <td>False</td>\n",
       "      <td>True</td>\n",
       "    </tr>\n",
       "    <tr>\n",
       "      <th>4336</th>\n",
       "      <td>2014</td>\n",
       "      <td>80000</td>\n",
       "      <td>1</td>\n",
       "      <td>False</td>\n",
       "      <td>False</td>\n",
       "      <td>False</td>\n",
       "      <td>False</td>\n",
       "      <td>False</td>\n",
       "      <td>False</td>\n",
       "      <td>False</td>\n",
       "      <td>...</td>\n",
       "      <td>False</td>\n",
       "      <td>False</td>\n",
       "      <td>False</td>\n",
       "      <td>True</td>\n",
       "      <td>False</td>\n",
       "      <td>False</td>\n",
       "      <td>False</td>\n",
       "      <td>True</td>\n",
       "      <td>False</td>\n",
       "      <td>True</td>\n",
       "    </tr>\n",
       "    <tr>\n",
       "      <th>4337</th>\n",
       "      <td>2009</td>\n",
       "      <td>83000</td>\n",
       "      <td>1</td>\n",
       "      <td>False</td>\n",
       "      <td>False</td>\n",
       "      <td>False</td>\n",
       "      <td>False</td>\n",
       "      <td>False</td>\n",
       "      <td>False</td>\n",
       "      <td>False</td>\n",
       "      <td>...</td>\n",
       "      <td>False</td>\n",
       "      <td>False</td>\n",
       "      <td>False</td>\n",
       "      <td>False</td>\n",
       "      <td>False</td>\n",
       "      <td>True</td>\n",
       "      <td>False</td>\n",
       "      <td>True</td>\n",
       "      <td>False</td>\n",
       "      <td>True</td>\n",
       "    </tr>\n",
       "    <tr>\n",
       "      <th>4338</th>\n",
       "      <td>2016</td>\n",
       "      <td>90000</td>\n",
       "      <td>2</td>\n",
       "      <td>False</td>\n",
       "      <td>False</td>\n",
       "      <td>False</td>\n",
       "      <td>False</td>\n",
       "      <td>False</td>\n",
       "      <td>False</td>\n",
       "      <td>False</td>\n",
       "      <td>...</td>\n",
       "      <td>False</td>\n",
       "      <td>False</td>\n",
       "      <td>False</td>\n",
       "      <td>True</td>\n",
       "      <td>False</td>\n",
       "      <td>False</td>\n",
       "      <td>False</td>\n",
       "      <td>True</td>\n",
       "      <td>False</td>\n",
       "      <td>True</td>\n",
       "    </tr>\n",
       "    <tr>\n",
       "      <th>4339</th>\n",
       "      <td>2016</td>\n",
       "      <td>40000</td>\n",
       "      <td>2</td>\n",
       "      <td>False</td>\n",
       "      <td>False</td>\n",
       "      <td>False</td>\n",
       "      <td>False</td>\n",
       "      <td>False</td>\n",
       "      <td>False</td>\n",
       "      <td>False</td>\n",
       "      <td>...</td>\n",
       "      <td>False</td>\n",
       "      <td>False</td>\n",
       "      <td>False</td>\n",
       "      <td>False</td>\n",
       "      <td>False</td>\n",
       "      <td>True</td>\n",
       "      <td>False</td>\n",
       "      <td>True</td>\n",
       "      <td>False</td>\n",
       "      <td>True</td>\n",
       "    </tr>\n",
       "  </tbody>\n",
       "</table>\n",
       "<p>4340 rows × 28 columns</p>\n",
       "</div>"
      ],
      "text/plain": [
       "      year  km_driven  owner  name_Audi  name_BMW  name_Chevrolet  \\\n",
       "0     2007      70000      2      False     False           False   \n",
       "1     2007      50000      2      False     False           False   \n",
       "2     2012     100000      2      False     False           False   \n",
       "3     2017      46000      2      False     False           False   \n",
       "4     2014     141000      1      False     False           False   \n",
       "...    ...        ...    ...        ...       ...             ...   \n",
       "4335  2014      80000      1      False     False           False   \n",
       "4336  2014      80000      1      False     False           False   \n",
       "4337  2009      83000      1      False     False           False   \n",
       "4338  2016      90000      2      False     False           False   \n",
       "4339  2016      40000      2      False     False           False   \n",
       "\n",
       "      name_Datsun  name_Fiat  name_Ford  name_Honda  ...  name_Tata  \\\n",
       "0           False      False      False       False  ...      False   \n",
       "1           False      False      False       False  ...      False   \n",
       "2           False      False      False       False  ...      False   \n",
       "3            True      False      False       False  ...      False   \n",
       "4           False      False      False        True  ...      False   \n",
       "...           ...        ...        ...         ...  ...        ...   \n",
       "4335        False      False      False       False  ...      False   \n",
       "4336        False      False      False       False  ...      False   \n",
       "4337        False      False      False       False  ...      False   \n",
       "4338        False      False      False       False  ...      False   \n",
       "4339        False      False      False       False  ...      False   \n",
       "\n",
       "      name_Toyota  name_Volkswagen  fuel_Diesel  fuel_Other  fuel_Petrol  \\\n",
       "0           False            False        False       False         True   \n",
       "1           False            False        False       False         True   \n",
       "2           False            False         True       False        False   \n",
       "3           False            False        False       False         True   \n",
       "4           False            False         True       False        False   \n",
       "...           ...              ...          ...         ...          ...   \n",
       "4335        False            False         True       False        False   \n",
       "4336        False            False         True       False        False   \n",
       "4337        False            False        False       False         True   \n",
       "4338        False            False         True       False        False   \n",
       "4339        False            False        False       False         True   \n",
       "\n",
       "      seller_type_Dealer  seller_type_Individual  transmission_Automatic  \\\n",
       "0                  False                    True                   False   \n",
       "1                  False                    True                   False   \n",
       "2                  False                    True                   False   \n",
       "3                  False                    True                   False   \n",
       "4                  False                    True                   False   \n",
       "...                  ...                     ...                     ...   \n",
       "4335               False                    True                   False   \n",
       "4336               False                    True                   False   \n",
       "4337               False                    True                   False   \n",
       "4338               False                    True                   False   \n",
       "4339               False                    True                   False   \n",
       "\n",
       "      transmission_Manual  \n",
       "0                    True  \n",
       "1                    True  \n",
       "2                    True  \n",
       "3                    True  \n",
       "4                    True  \n",
       "...                   ...  \n",
       "4335                 True  \n",
       "4336                 True  \n",
       "4337                 True  \n",
       "4338                 True  \n",
       "4339                 True  \n",
       "\n",
       "[4340 rows x 28 columns]"
      ]
     },
     "execution_count": 48,
     "metadata": {},
     "output_type": "execute_result"
    }
   ],
   "source": [
    "X_encoded"
   ]
  },
  {
   "cell_type": "markdown",
   "id": "3eefe0fb",
   "metadata": {},
   "source": [
    "#### Splitting the data into training and testing sets"
   ]
  },
  {
   "cell_type": "code",
   "execution_count": 49,
   "id": "2aeb32ef",
   "metadata": {},
   "outputs": [
    {
     "name": "stdout",
     "output_type": "stream",
     "text": [
      "Shape of X_train =  (3472, 28)\n",
      "Shape of y_train =  (3472,)\n",
      "Shape of X_test =  (868, 28)\n",
      "Shape of y_test =  (868,)\n"
     ]
    }
   ],
   "source": [
    "from sklearn.model_selection import train_test_split\n",
    "X_train, X_test, y_train, y_test = train_test_split(X_encoded, y, test_size=0.2, random_state=42)\n",
    "\n",
    "print('Shape of X_train = ', X_train.shape)\n",
    "print('Shape of y_train = ', y_train.shape)\n",
    "print('Shape of X_test = ', X_test.shape)\n",
    "print('Shape of y_test = ', y_test.shape)"
   ]
  },
  {
   "cell_type": "markdown",
   "id": "e4acb3ba",
   "metadata": {},
   "source": [
    "### Linear Reggression model"
   ]
  },
  {
   "cell_type": "code",
   "execution_count": 50,
   "id": "1c859ee0",
   "metadata": {},
   "outputs": [
    {
     "name": "stdout",
     "output_type": "stream",
     "text": [
      "Training MAE: 186037.78\n",
      "Training MSE: 103725837243.02\n",
      "Training RMSE: 322064.96\n",
      "Training R²: 0.697\n",
      "======================================================================================================================================================\n",
      "Testing MAE: 190428.42\n",
      "Testing MSE: 148846398036.50\n",
      "Testing RMSE: 385806.17\n",
      "Testing R²: 0.512\n"
     ]
    }
   ],
   "source": [
    "from sklearn.linear_model import LinearRegression\n",
    "from sklearn.metrics import mean_squared_error, mean_absolute_error, r2_score\n",
    "from math import sqrt\n",
    "\n",
    "# Inicjacja obiektu modelu regresji liniowej\n",
    "model = LinearRegression()\n",
    "# Dopasowanie danych treningowych\n",
    "model.fit(X_train, y_train)\n",
    "\n",
    "# Funkcja zwracająca metrykę dla tego modelu\n",
    "def regression_metrics(model, X_train, y_train):\n",
    "    y_pred_train = model.predict(X_train)\n",
    "    y_pred_test = model.predict(X_test)\n",
    "\n",
    "    # MAE, MSE, RMSE i współczynnik R^2 dla zbioru treningowego\n",
    "    train_mae = mean_absolute_error(y_train, y_pred_train)\n",
    "    train_mse = mean_squared_error(y_train, y_pred_train)\n",
    "    train_rmse = sqrt(train_mse.mean())\n",
    "    train_r2 = r2_score(y_train, y_pred_train)\n",
    "\n",
    "    # MAE, MSE, RMSE i współczynnik R^2 dla zbioru testowego\n",
    "    test_mae = mean_absolute_error(y_test, y_pred_test)\n",
    "    test_mse = mean_squared_error(y_test, y_pred_test)\n",
    "    test_rmse = sqrt(test_mse.mean())\n",
    "    test_r2 = r2_score(y_test, y_pred_test)\n",
    "\n",
    "    # Wyświetla wszystkie metryki \n",
    "    print(f\"Training MAE: {train_mae.mean():.2f}\")\n",
    "    print(f\"Training MSE: {train_mse.mean():.2f}\")\n",
    "    print(f\"Training RMSE: {train_rmse:.2f}\")\n",
    "    print(f\"Training R²: {train_r2.mean():.3f}\")\n",
    "    print('==='*50)\n",
    "    print(f\"Testing MAE: {test_mae.mean():.2f}\")\n",
    "    print(f\"Testing MSE: {test_mse.mean():.2f}\")\n",
    "    print(f\"Testing RMSE: {test_rmse:.2f}\")\n",
    "    print(f\"Testing R²: {test_r2.mean():.3f}\")\n",
    "\n",
    "    # Lista wyliczonych parametrów - potrzebne do porównania\n",
    "    model_params = [train_mae, train_mse, train_rmse, train_r2, test_mae, test_mse, test_rmse, test_r2]\n",
    "\n",
    "    return model_params\n",
    "\n",
    "linear_params = regression_metrics(model, X_train, y_train)"
   ]
  },
  {
   "cell_type": "markdown",
   "id": "94667f5c",
   "metadata": {},
   "source": [
    "Nie jest to zbyt dobre dopasowanie, natomiast przy pominięciu kolumny 'name' (usunięcie z datasetu, co sprawia, że kolumn zamiast 30 jest 10) powoduje, że R² jest w okolicach 0,43 dla treningowego i 0,40 dla testowego"
   ]
  },
  {
   "cell_type": "markdown",
   "id": "c14d5689",
   "metadata": {},
   "source": [
    "### XGBOOST model\n"
   ]
  },
  {
   "cell_type": "code",
   "execution_count": 51,
   "id": "c774d737",
   "metadata": {},
   "outputs": [],
   "source": [
    "categorical_cols = list(cars_copy_data.select_dtypes(include='object'))\n",
    "cars_copy_data[categorical_cols] = cars_copy_data[categorical_cols].astype('category')\n",
    "\n",
    "\n",
    "X = cars_copy_data.drop(columns=['selling_price'])\n",
    "# X_encoded = pd.get_dummies(X, columns=['name','fuel','seller_type','transmission','owner'])\n",
    "y = cars_copy_data['selling_price']"
   ]
  },
  {
   "cell_type": "code",
   "execution_count": 52,
   "id": "51360463",
   "metadata": {},
   "outputs": [
    {
     "name": "stdout",
     "output_type": "stream",
     "text": [
      "<class 'pandas.core.frame.DataFrame'>\n",
      "RangeIndex: 4340 entries, 0 to 4339\n",
      "Data columns (total 7 columns):\n",
      " #   Column        Non-Null Count  Dtype   \n",
      "---  ------        --------------  -----   \n",
      " 0   name          4340 non-null   category\n",
      " 1   year          4340 non-null   int64   \n",
      " 2   km_driven     4340 non-null   int64   \n",
      " 3   fuel          4340 non-null   category\n",
      " 4   seller_type   4340 non-null   category\n",
      " 5   transmission  4340 non-null   category\n",
      " 6   owner         4340 non-null   category\n",
      "dtypes: category(5), int64(2)\n",
      "memory usage: 90.3 KB\n"
     ]
    }
   ],
   "source": [
    "X.info()"
   ]
  },
  {
   "cell_type": "code",
   "execution_count": 53,
   "id": "6847eaf7",
   "metadata": {},
   "outputs": [
    {
     "name": "stdout",
     "output_type": "stream",
     "text": [
      "MAE train: 193886.34 | 1857.56\n",
      "MAE test: 209126.35 | 13040.50\n",
      "MSE train: 122027725197.92 | 18833355825.12\n",
      "MSE test: 197555405471.64 | 94834770217.17\n",
      "RMSE train: 349324.67 | 137234.67\n",
      "RMSE test: 444472.05 | 307952.55\n",
      "\n",
      "======================================================================================================================================================\n",
      "\n",
      "name  0.0190\n",
      "year  0.0264\n",
      "km_driven  0.0244\n",
      "fuel  0.1271\n",
      "seller_type  0.0153\n",
      "transmission  0.7820\n",
      "owner  0.0059\n",
      "====================\n",
      "RMSE_test - RMSE_train: 95147.382338\n"
     ]
    }
   ],
   "source": [
    "import pandas as pd\n",
    "from sklearn.model_selection import train_test_split, cross_val_score\n",
    "from sklearn.metrics import accuracy_score\n",
    "from xgboost import XGBRegressor, DMatrix, train\n",
    "import numpy as np\n",
    "\n",
    "X_train, X_test, y_train, y_test = train_test_split(X, y, test_size=0.20, random_state=42, shuffle=True)\n",
    "\n",
    "# Initial parameter setting ==> for optimization\n",
    "params = {\n",
    "    'objective': 'reg:squarederror',\n",
    "    'tree_method':\"hist\",\n",
    "    'max_depth': 6,\n",
    "    'alpha': 10,\n",
    "    'learning_rate': 0.01,\n",
    "    'eval_metric': 'rmse',\n",
    "    'enable_categorical': True,\n",
    "    'max_cat_to_onehot':21\n",
    "}\n",
    "\n",
    "model = XGBRegressor(**params)\n",
    "model.fit(X_train,y_train)\n",
    "y_pred = model.predict(X_test)\n",
    "\n",
    "# obliczenie metryk\n",
    "mae_train = np.absolute(cross_val_score(model, X_train, y_train, cv=3, scoring='neg_mean_absolute_error'))\n",
    "mae_test = np.absolute(cross_val_score(model, X_test, y_test, cv=3, scoring='neg_mean_absolute_error'))\n",
    "mse_train = np.absolute(cross_val_score(model, X_train, y_train, cv=3, scoring='neg_mean_squared_error'))\n",
    "mse_test = np.absolute(cross_val_score(model, X_test, y_test, cv=3, scoring='neg_mean_squared_error'))\n",
    "\n",
    "print(f\"MAE train: {mae_train.mean():.2f} | {mae_train.std():.2f}\")\n",
    "print(f\"MAE test: {mae_test.mean():.2f} | {mae_test.std():.2f}\")\n",
    "print(f\"MSE train: {mse_train.mean():.2f} | {mse_train.std():.2f}\")\n",
    "print(f\"MSE test: {mse_test.mean():.2f} | {mse_test.std():.2f}\")\n",
    "print(f\"RMSE train: {sqrt(mse_train.mean()):.2f} | {sqrt(mse_train.std()):.2f}\")\n",
    "print(f\"RMSE test: {sqrt(mse_test.mean()):.2f} | {sqrt(mse_test.std()):.2f}\")\n",
    "\n",
    "print('\\n'+'==='*50+'\\n')\n",
    "\n",
    "### The contribution of individual features in matching\n",
    "feature_importance = zip(X.columns.to_list(), list(model.feature_importances_))\n",
    "for column, importance in feature_importance:\n",
    "    print(f'{column}  {importance:.4f}')\n",
    "\n",
    "print('='*20)\n",
    "print(f'RMSE_test - RMSE_train: {(sqrt(mse_test.mean())-sqrt(mse_train.mean())):2f}')\n"
   ]
  },
  {
   "cell_type": "markdown",
   "id": "35d113e3",
   "metadata": {},
   "source": [
    "#### Optimizing XGBOOST parameters using Randomized Search"
   ]
  },
  {
   "cell_type": "code",
   "execution_count": 54,
   "id": "f4f60fdd",
   "metadata": {},
   "outputs": [
    {
     "name": "stdout",
     "output_type": "stream",
     "text": [
      "Fitting 5 folds for each of 50 candidates, totalling 250 fits\n",
      "XGBRegressor(alpha=1, base_score=None, booster=None, callbacks=None,\n",
      "             colsample_bylevel=None, colsample_bynode=None,\n",
      "             colsample_bytree=None, device=None, early_stopping_rounds=None,\n",
      "             enable_categorical=True, eval_metric=None, feature_types=None,\n",
      "             gamma=None, grow_policy=None, importance_type=None,\n",
      "             interaction_constraints=None, learning_rate=0.2, max_bin=None,\n",
      "             max_cat_threshold=None, max_cat_to_onehot=10, max_delta_step=None,\n",
      "             max_depth=6, max_leaves=None, min_child_weight=10, missing=nan,\n",
      "             monotone_constraints=None, multi_strategy=None, n_estimators=100,\n",
      "             n_jobs=None, num_parallel_tree=None, ...)\n",
      "Najmniejsza wartość RMSE: 224035.49244002852\n"
     ]
    }
   ],
   "source": [
    "from sklearn.model_selection import RandomizedSearchCV, GridSearchCV\n",
    "from numpy import absolute\n",
    "\n",
    "hyperparameter_grid = {\n",
    "    'n_estimators': [100, 400, 800],\n",
    "    'max_depth': [3, 6, 9],\n",
    "    'learning_rate': [0.05, 0.1, 0.20],\n",
    "    'min_child_weight': [1, 10, 100],\n",
    "    'alpha': [1,5,10],\n",
    "    'max_cat_to_onehot':[10, 20, 30]\n",
    "}\n",
    "\n",
    "# Creating a regressor\n",
    "regressor = XGBRegressor(enable_categorical=True)\n",
    "\n",
    "random_cv = RandomizedSearchCV(\n",
    "    estimator=regressor,\n",
    "    param_distributions=hyperparameter_grid,\n",
    "    cv=5,\n",
    "    n_iter=50,\n",
    "    scoring='neg_root_mean_squared_error',\n",
    "    n_jobs=4,\n",
    "    verbose=5,\n",
    "    return_train_score=True,\n",
    "    random_state=42\n",
    ")\n",
    "  \n",
    "random_cv.fit(X_train, y_train)\n",
    "print(random_cv.best_estimator_)\n",
    "print(f'Minimal value of RMSE: {absolute(random_cv.best_score_)}')"
   ]
  },
  {
   "cell_type": "markdown",
   "id": "841f284f",
   "metadata": {},
   "source": [
    "### Optimizing XGBOOST parameters using GridSearch"
   ]
  },
  {
   "cell_type": "code",
   "execution_count": 55,
   "id": "8c5a32cf",
   "metadata": {},
   "outputs": [
    {
     "name": "stdout",
     "output_type": "stream",
     "text": [
      "Fitting 5 folds for each of 729 candidates, totalling 3645 fits\n",
      "XGBRegressor(alpha=5, base_score=None, booster=None, callbacks=None,\n",
      "             colsample_bylevel=None, colsample_bynode=None,\n",
      "             colsample_bytree=None, device=None, early_stopping_rounds=None,\n",
      "             enable_categorical=True, eval_metric=None, feature_types=None,\n",
      "             gamma=None, grow_policy=None, importance_type=None,\n",
      "             interaction_constraints=None, learning_rate=0.2, max_bin=None,\n",
      "             max_cat_threshold=None, max_cat_to_onehot=10, max_delta_step=None,\n",
      "             max_depth=6, max_leaves=None, min_child_weight=10, missing=nan,\n",
      "             monotone_constraints=None, multi_strategy=None, n_estimators=100,\n",
      "             n_jobs=None, num_parallel_tree=None, ...)\n",
      "Najmniejsza wartość RMSE: 224035.48383311642\n"
     ]
    }
   ],
   "source": [
    "from sklearn.model_selection import RandomizedSearchCV, GridSearchCV\n",
    "from numpy import absolute\n",
    "\n",
    "hyperparameter_grid = {\n",
    "    'n_estimators': [100, 400, 800],\n",
    "    'max_depth': [3, 6, 9],\n",
    "    'learning_rate': [0.05, 0.1, 0.20],\n",
    "    'min_child_weight': [1, 10, 100],\n",
    "    'alpha': [1,5,10],\n",
    "    'max_cat_to_onehot':[10, 20, 30]\n",
    "}\n",
    "\n",
    "# Utworzenie regresora\n",
    "regressor = XGBRegressor(enable_categorical=True)\n",
    "\n",
    "# Grid Search \n",
    "grid_cv = GridSearchCV(\n",
    "    estimator=regressor,\n",
    "    param_grid=hyperparameter_grid,\n",
    "    cv=5,\n",
    "    scoring='neg_root_mean_squared_error',\n",
    "    n_jobs=4,\n",
    "    verbose=5,\n",
    "    return_train_score=True,\n",
    "    \n",
    ")\n",
    "\n",
    "# Dopasowanie do danych\n",
    "grid_cv.fit(X_train, y_train)\n",
    "\n",
    "# Wyświetlenie najlepszych wartości\n",
    "print(grid_cv.best_estimator_)\n",
    "print(f'Najmniejsza wartość RMSE: {absolute(grid_cv.best_score_)}')\n"
   ]
  },
  {
   "cell_type": "code",
   "execution_count": 56,
   "id": "f8fb6442",
   "metadata": {},
   "outputs": [
    {
     "name": "stdout",
     "output_type": "stream",
     "text": [
      "MAE train: 130046.93 | 2823.45\n",
      "MAE test: 187727.27 | 9019.84\n",
      "MSE train: 57679572843.88 | 10504611310.10\n",
      "MSE test: 181710917615.20 | 62888224943.04\n",
      "RMSE train: 240165.72 | 102492.01\n",
      "RMSE test: 426275.64 | 250775.25\n",
      "\n",
      "======================================================================================================================================================\n",
      "\n",
      "name  0.3732\n",
      "year  0.2506\n",
      "km_driven  0.0206\n",
      "fuel  0.1030\n",
      "seller_type  0.0678\n",
      "transmission  0.1748\n",
      "owner  0.0100\n",
      "====================\n",
      "RMSE_test - RMSE_train: 186109.916184\n"
     ]
    }
   ],
   "source": [
    "# Model with best params from GridSearchCV\n",
    "X_train, X_test, y_train, y_test = train_test_split(X, y, test_size=0.20, random_state=42, shuffle=True)\n",
    "\n",
    "params = {\n",
    "    'objective': 'reg:squarederror',\n",
    "    'n_estimators':100,\n",
    "    'tree_method':\"hist\",\n",
    "    'max_depth': 6,\n",
    "    'alpha': 5,\n",
    "    'learning_rate': 0.2,\n",
    "    'eval_metric': 'rmse',\n",
    "    'enable_categorical': True,\n",
    "    'max_cat_to_onehot':10,\n",
    "    'min_child_weight':10\n",
    "}\n",
    "\n",
    "model = XGBRegressor(**params)\n",
    "model.fit(X_train,y_train)\n",
    "y_pred = model.predict(X_test)\n",
    "\n",
    "\n",
    "mae_train = np.absolute(cross_val_score(model, X_train, y_train, cv=3, scoring='neg_mean_absolute_error'))\n",
    "mae_test = np.absolute(cross_val_score(model, X_test, y_test, cv=3, scoring='neg_mean_absolute_error'))\n",
    "mse_train = np.absolute(cross_val_score(model, X_train, y_train, cv=3, scoring='neg_mean_squared_error'))\n",
    "mse_test = np.absolute(cross_val_score(model, X_test, y_test, cv=3, scoring='neg_mean_squared_error'))\n",
    "\n",
    "print(f\"MAE train: {mae_train.mean():.2f} | {mae_train.std():.2f}\")\n",
    "print(f\"MAE test: {mae_test.mean():.2f} | {mae_test.std():.2f}\")\n",
    "print(f\"MSE train: {mse_train.mean():.2f} | {mse_train.std():.2f}\")\n",
    "print(f\"MSE test: {mse_test.mean():.2f} | {mse_test.std():.2f}\")\n",
    "print(f\"RMSE train: {sqrt(mse_train.mean()):.2f} | {sqrt(mse_train.std()):.2f}\")\n",
    "print(f\"RMSE test: {sqrt(mse_test.mean()):.2f} | {sqrt(mse_test.std()):.2f}\")\n",
    "\n",
    "print('\\n'+'==='*50+'\\n')\n",
    "\n",
    "feature_importance = zip(X.columns.to_list(), list(model.feature_importances_))\n",
    "for column, importance in feature_importance:\n",
    "    print(f'{column}  {importance:.4f}')\n",
    "\n",
    "print('='*20)\n",
    "print(f'RMSE_test - RMSE_train: {(sqrt(mse_test.mean())-sqrt(mse_train.mean())):2f}')"
   ]
  },
  {
   "cell_type": "code",
   "execution_count": 57,
   "id": "e7498f8a",
   "metadata": {},
   "outputs": [
    {
     "name": "stdout",
     "output_type": "stream",
     "text": [
      "MAE train: 130046.94 | 2823.46\n",
      "MAE test: 187727.33 | 9019.81\n",
      "MSE train: 57679581070.12 | 10504621675.99\n",
      "MSE test: 181710980076.60 | 62888236609.14\n",
      "RMSE train: 240165.74 | 102492.06\n",
      "RMSE test: 426275.71 | 250775.27\n",
      "\n",
      "======================================================================================================================================================\n",
      "\n",
      "name  0.3732\n",
      "year  0.2506\n",
      "km_driven  0.0206\n",
      "fuel  0.1030\n",
      "seller_type  0.0678\n",
      "transmission  0.1748\n",
      "owner  0.0100\n",
      "====================\n",
      "RMSE_test - RMSE_train: 186109.972322\n"
     ]
    }
   ],
   "source": [
    "# Model with best params from RandomSearchCV\n",
    "X_train, X_test, y_train, y_test = train_test_split(X, y, test_size=0.20, random_state=42, shuffle=True)\n",
    "\n",
    "params = {\n",
    "    'objective': 'reg:squarederror',\n",
    "    'n_estimators':100,\n",
    "    'tree_method':\"hist\",\n",
    "    'max_depth': 6,\n",
    "    'alpha': 1,\n",
    "    'learning_rate': 0.2,\n",
    "    'eval_metric': 'rmse',\n",
    "    'enable_categorical': True,\n",
    "    'max_cat_to_onehot':10,\n",
    "    'min_child_weight':10\n",
    "}\n",
    "\n",
    "model = XGBRegressor(**params)\n",
    "model.fit(X_train,y_train)\n",
    "y_pred = model.predict(X_test)\n",
    "\n",
    "\n",
    "mae_train = np.absolute(cross_val_score(model, X_train, y_train, cv=3, scoring='neg_mean_absolute_error'))\n",
    "mae_test = np.absolute(cross_val_score(model, X_test, y_test, cv=3, scoring='neg_mean_absolute_error'))\n",
    "mse_train = np.absolute(cross_val_score(model, X_train, y_train, cv=3, scoring='neg_mean_squared_error'))\n",
    "mse_test = np.absolute(cross_val_score(model, X_test, y_test, cv=3, scoring='neg_mean_squared_error'))\n",
    "\n",
    "print(f\"MAE train: {mae_train.mean():.2f} | {mae_train.std():.2f}\")\n",
    "print(f\"MAE test: {mae_test.mean():.2f} | {mae_test.std():.2f}\")\n",
    "print(f\"MSE train: {mse_train.mean():.2f} | {mse_train.std():.2f}\")\n",
    "print(f\"MSE test: {mse_test.mean():.2f} | {mse_test.std():.2f}\")\n",
    "print(f\"RMSE train: {sqrt(mse_train.mean()):.2f} | {sqrt(mse_train.std()):.2f}\")\n",
    "print(f\"RMSE test: {sqrt(mse_test.mean()):.2f} | {sqrt(mse_test.std()):.2f}\")\n",
    "\n",
    "print('\\n'+'==='*50+'\\n')\n",
    "\n",
    "feature_importance = zip(X.columns.to_list(), list(model.feature_importances_))\n",
    "for column, importance in feature_importance:\n",
    "    print(f'{column}  {importance:.4f}')\n",
    "\n",
    "print('='*20)\n",
    "print(f'RMSE_test - RMSE_train: {(sqrt(mse_test.mean())-sqrt(mse_train.mean())):2f}')"
   ]
  },
  {
   "cell_type": "markdown",
   "id": "6dcca981",
   "metadata": {},
   "source": [
    "In this case, both algorithms ended up selecting a similar set of parameters and feature contributions. However, there is a significant difference between training and test set values. Most likely, the model is overfitting, so it may be necessary to revisit the data preprocessing phase to eliminate outliers and improve the distribution of continuous values. It's worth noting that parameter optimization resulted in reduced MAE, MSE, and RMSE values on both the training and test sets."
   ]
  },
  {
   "cell_type": "markdown",
   "id": "236c1d58",
   "metadata": {},
   "source": [
    "### Przykład do sprawdzenia modelu"
   ]
  },
  {
   "cell_type": "code",
   "execution_count": 58,
   "id": "fdb4cd04",
   "metadata": {},
   "outputs": [
    {
     "name": "stdout",
     "output_type": "stream",
     "text": [
      "Selling price: 1493052.125\n"
     ]
    }
   ],
   "source": [
    "car = {\n",
    "    'name':['Toyota'],\n",
    "    'year':[2011],\n",
    "    'km_driven': [96000],\n",
    "    'fuel':['Petrol'],\n",
    "    'seller_type':['Individual'],\n",
    "    'transmission':['Manual'],\n",
    "    'owner':['Second Owner']}\n",
    "\n",
    "car = pd.DataFrame(car)\n",
    "object_cols = list(car.select_dtypes(include='object'))\n",
    "car[object_cols] = car[object_cols].astype('category')\n",
    "y_pred = model.predict(car)\n",
    "print(f'Selling price: {y_pred[0]}')"
   ]
  },
  {
   "cell_type": "markdown",
   "id": "7f7e664e",
   "metadata": {},
   "source": [
    "It's evident that the prediction is significantly inflated, so we should 'dig into the data' and delete outliers or impute them with for example median values."
   ]
  }
 ],
 "metadata": {
  "kernelspec": {
   "display_name": "Python 3 (ipykernel)",
   "language": "python",
   "name": "python3"
  },
  "language_info": {
   "codemirror_mode": {
    "name": "ipython",
    "version": 3
   },
   "file_extension": ".py",
   "mimetype": "text/x-python",
   "name": "python",
   "nbconvert_exporter": "python",
   "pygments_lexer": "ipython3",
   "version": "3.11.8"
  }
 },
 "nbformat": 4,
 "nbformat_minor": 5
}
